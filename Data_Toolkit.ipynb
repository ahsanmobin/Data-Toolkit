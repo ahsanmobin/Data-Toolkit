{
  "nbformat": 4,
  "nbformat_minor": 0,
  "metadata": {
    "colab": {
      "provenance": []
    },
    "kernelspec": {
      "name": "python3",
      "display_name": "Python 3"
    },
    "language_info": {
      "name": "python"
    }
  },
  "cells": [
    {
      "cell_type": "markdown",
      "source": [
        "  # Data Toolkit"
      ],
      "metadata": {
        "id": "0jIBnLZBg_sz"
      }
    },
    {
      "cell_type": "markdown",
      "source": [
        " 1. What is NumPy, and why is it widely used in Python?\n",
        " - NumPy (Numerical Python) is a powerful open-source Python library used for numerical computing.\n",
        "\n",
        "  It provides:\n",
        "\n",
        "  - A multi-dimensional array object called ndarray, which is far more efficient than Python’s built-in lists.\n",
        "\n",
        "  - Tools for performing mathematical, logical, and statistical operations on large datasets.\n",
        "\n",
        "  - Support for linear algebra, Fourier transforms, and random number generation.\n",
        "\n",
        "   Why is NumPy widely used\n",
        "\n",
        "1. Efficient Array Operations\n",
        "\n",
        "     NumPy arrays are stored in contiguous memory, making them much faster than Python lists for numerical computations.\n",
        "\n",
        "     Operations are vectorized (done in bulk, without explicit Python loops).\n",
        "\n",
        "2. Performance\n",
        "\n",
        "   Built on top of C and Fortran, so numerical operations are highly optimized and can handle large datasets efficiently.\n",
        "\n",
        "3. Convenience & Functionality\n",
        "\n",
        "   Provides hundreds of built-in mathematical functions (mean, sum, dot product, etc.).\n",
        "\n",
        "   Supports broadcasting (performing operations on arrays of different shapes without extra code).\n",
        "\n",
        "4. Foundation for Data Science & ML\n",
        "\n",
        "   Forms the backbone of many popular Python libraries such as Pandas, SciPy, scikit-learn, TensorFlow, PyTorch, and Matplotlib.\n",
        "\n",
        "5. Interoperability\n",
        "\n",
        "  Easily integrates with C/C++ and Fortran code.\n",
        "\n",
        "   Makes it ideal for scientific and engineering applications.  \n"
      ],
      "metadata": {
        "id": "jzaOMSIBhFAZ"
      }
    },
    {
      "cell_type": "markdown",
      "source": [
        "2.  How does broadcasting work in NumPy?\n",
        "-  Broadcasting in NumPy is a set of rules that allow arithmetic operations on arrays of different shapes and sizes without making explicit copies of data.\n",
        "\n",
        "  Instead of looping through elements manually, NumPy \"stretches\" smaller arrays across larger ones where possible, so operations happen element-wise efficiently.\n",
        "\n",
        "  -   Rules of Broadcasting\n",
        "\n",
        "   When NumPy operates on two arrays, it compares their shapes (dimensions):\n",
        "\n",
        "   - If the arrays have the same shape → operate element-wise.\n",
        "\n",
        "  - If shapes are different, NumPy tries to make them compatible by:\n",
        "\n",
        "  If dimensions are not equal, the smaller dimension is \"stretched\" to match.\n",
        "\n",
        "   A dimension of size 1 can be broadcast to match the other array.\n",
        "\n",
        "  - If they still don’t match → error (ValueError: operands could not be broadcast together)."
      ],
      "metadata": {
        "id": "SHn2pvgZiit_"
      }
    },
    {
      "cell_type": "markdown",
      "source": [
        "3.What is a Pandas DataFrame?\n",
        "- A Pandas DataFrame is a two-dimensional, tabular data structure in Python (like a spreadsheet or SQL table).\n",
        "It is part of the Pandas library, which is built on top of NumPy and is widely used for data analysis and manipulation.\n",
        "\n",
        "  - Think of it as an Excel sheet in Python:\n",
        "\n",
        "  - Rows → observations/records\n",
        "\n",
        "  - Columns → features/variables\n",
        "\n",
        "-  Key Features of a DataFrame\n",
        "\n",
        "1. Labeled Axes\n",
        "\n",
        "Rows have an index (labels like 0,1,2... or custom).\n",
        "\n",
        "Columns have names.\n",
        "\n",
        "2. Heterogeneous Data\n",
        "\n",
        "Each column can have a different data type (int, float, string, datetime, etc.).\n",
        "\n",
        "3. Size Mutable\n",
        "\n",
        "You can add, delete, or update rows/columns easily.\n",
        "\n",
        "4. Powerful Operations\n",
        "\n",
        "Filtering, grouping, merging, reshaping, handling missing data, etc."
      ],
      "metadata": {
        "id": "wWXMvBzqjhtk"
      }
    },
    {
      "cell_type": "markdown",
      "source": [
        "4. Explain the use of the groupby() method in Pandas.\n",
        "- this is one of the most powerful features of Pandas\n",
        "\n",
        "  The groupby() method in Pandas is used to split data into groups based on one or more columns, and then apply operations (like aggregation, transformation, or filtering) on those groups.\n",
        "\n",
        "   It follows the \"Split-Apply-Combine\" strategy:\n",
        "\n",
        "  Split → Divide data into groups based on some criteria.\n",
        "\n",
        "  Apply → Perform an operation on each group (e.g., sum, mean, count).\n",
        "\n",
        "  Combine → Merge the results back into a DataFrame/Series."
      ],
      "metadata": {
        "id": "wV5NG0LwkUHJ"
      }
    },
    {
      "cell_type": "markdown",
      "source": [
        "5.  Why is Seaborn preferred for statistical visualizations?\n",
        "- Seaborn is a Python data visualization library built on top of Matplotlib, and it’s widely preferred for statistical visualizations because it is high-level, aesthetically pleasing, and statistically powerful.\n",
        "\n",
        "  1. Beautiful Default Styles\n",
        "\n",
        "  Seaborn comes with attractive, modern themes out of the box.\n",
        "\n",
        "  Plots are cleaner and more professional-looking compared to raw Matplotlib.\n",
        "\n",
        "  2. Built-in Support for Statistical Plots\n",
        "\n",
        "     Seaborn is designed specifically for statistical data visualization.\n",
        "\n",
        "     Provides easy functions for:\n",
        "\n",
        "     Distribution plots (histplot, kdeplot)\n",
        "\n",
        "     Regression analysis (regplot, lmplot)\n",
        "\n",
        "     Categorical comparisons (boxplot, violinplot, barplot)\n",
        "\n",
        "     Correlation heatmaps (heatmap)\n",
        "\n",
        "  3. Works Directly with Pandas DataFrames\n",
        "\n",
        "     Seaborn can take column names directly from a DataFrame, unlike Matplotlib where you usually pass raw arrays.\n",
        "\n",
        " 4. Statistical Aggregation Built-in\n",
        "\n",
        "     Functions like barplot, pointplot, and catplot automatically compute aggregates (mean, confidence intervals, etc.).\n",
        "\n",
        "     Saves time compared to writing extra code.\n",
        "\n",
        "  5.  Easy Handling of Complex Plots\n",
        "\n",
        "     Seaborn has multi-plot functions like pairplot() and jointplot() that create multiple charts at once for relationships between variables."
      ],
      "metadata": {
        "id": "p_ij-qLl5___"
      }
    },
    {
      "cell_type": "markdown",
      "source": [
        "6. What are the differences between NumPy arrays and Python lists?\n",
        "- 1. Data Type\n",
        "\n",
        "     Python List: Can store heterogeneous data (integers, strings, floats, objects, etc.) in the same list.\n",
        "\n",
        "     NumPy Array: Stores data of a single, fixed type for efficiency.\n",
        "\n",
        " 2. Memory & Performance\n",
        "\n",
        "   Lists: Each element is a separate Python object, with extra overhead.\n",
        "   \n",
        "   NumPy Arrays: Stored in contiguous memory blocks, making them much more memory-efficient and faster.\n",
        "\n",
        "  3. Mathematical Operations\n",
        "\n",
        "     Lists: Don’t support element-wise operations directly. You need loops or list comprehensions.\n",
        "\n",
        "     Arrays: Support vectorized operations (element-wise addition, multiplication, etc.).\n",
        "\n",
        "  4. Functionality\n",
        "\n",
        "     Lists: Basic operations (append, pop, slicing).\n",
        "\n",
        "     Arrays: Rich set of mathematical, statistical, and linear algebra operations (mean, std, dot product, matrix multiplication, etc.).\n",
        "\n",
        "  5. Multidimensional Data\n",
        "\n",
        "     Lists: Can nest lists ([[1,2],[3,4]]), but operations are awkward.\n",
        "\n",
        "     Arrays: Natively support multidimensional arrays (ndarray) with efficient operations."
      ],
      "metadata": {
        "id": "P07ibpV07Cz5"
      }
    },
    {
      "cell_type": "markdown",
      "source": [
        "7.  What is a heatmap, and when should it be used?\n",
        "- A heatmap is a data visualization technique that represents values in a 2D matrix (rows × columns) using color intensity.\n",
        "\n",
        "     Each cell’s color corresponds to its value.\n",
        "\n",
        "     Darker/brighter colors = higher or lower values (depending on the color scale).\n",
        "\n",
        "  Heatmaps are especially useful when you want to:\n",
        "\n",
        "1. Show Relationships Between Variables\n",
        "\n",
        "   Example: Correlation between numerical features in a dataset.\n",
        "\n",
        "2. Visualize Matrix-like Data\n",
        "\n",
        "   Example: Confusion matrices in machine learning classification.\n",
        "\n",
        "   A heatmap helps spot where the model is predicting correctly vs incorrectly.\n",
        "\n",
        "3. Detect Patterns and Outliers\n",
        "\n",
        "  In large datasets, colors highlight clusters, trends, or anomalies better than numbers.\n",
        "\n",
        "4. Compare Intensities Across Categories\n",
        "\n",
        "   Example: Website analytics (hours vs days heatmap of user activity).\n",
        "\n",
        "   You can immediately see peak usage times."
      ],
      "metadata": {
        "id": "fdHJrCXj7-xV"
      }
    },
    {
      "cell_type": "markdown",
      "source": [
        "8.  What does the term “vectorized operation” mean in NumPy?\n",
        "- A vectorized operation means performing an operation on an entire array (or large chunk of data) at once, without using explicit Python loops.\n",
        "\n",
        "   Instead of looping through elements one by one, NumPy uses optimized C/Fortran code under the hood to apply the operation to the whole array.\n",
        "\n",
        "   Vectorization = bulk operations on arrays → faster & cleaner code.\n",
        "\n",
        " 1. Speed\n",
        "\n",
        "   Loops in Python are slow (interpreted line by line).\n",
        "\n",
        "   NumPy executes vectorized operations in compiled C code → much faster.\n",
        "\n",
        " 2.  Cleaner Code\n",
        "\n",
        "   No need for long loops — operations look more like mathematical formulas.\n",
        "\n",
        " 3. Memory Efficiency\n",
        "\n",
        "   Data stored in contiguous blocks of memory, processed in chunks  \n"
      ],
      "metadata": {
        "id": "ZjG5aHel8nRW"
      }
    },
    {
      "cell_type": "markdown",
      "source": [
        "9.  How does Matplotlib differ from Plotly?\n",
        "- both Matplotlib and Plotly are powerful plotting libraries in Python, but they serve slightly different purposes.\n",
        "\n",
        "Matplotlib vs Plotly\n",
        "1. Type of Library\n",
        "\n",
        "  - Matplotlib:\n",
        "\n",
        "     A static plotting library.\n",
        "\n",
        "     Produces publication-quality 2D plots (line, bar, scatter, histograms, etc.).\n",
        "\n",
        "     Mostly non-interactive (though you can use %matplotlib notebook or widgets for some interactivity).\n",
        "\n",
        "  - Plotly:\n",
        "\n",
        "   A modern, interactive plotting library.\n",
        "\n",
        "   Plots are dynamic (hover, zoom, pan, click events).\n",
        "\n",
        "   Can produce both 2D and 3D plots easily.\n",
        "\n",
        "  3. Integration\n",
        "\n",
        "    - Matplotlib:\n",
        "\n",
        "     Works seamlessly with NumPy and Pandas.\n",
        "\n",
        "     Foundation for libraries like Seaborn (which adds statistical plotting).\n",
        "\n",
        "     Best for research papers, static reports, academic use.\n",
        "\n",
        "      - Plotly:\n",
        "\n",
        "     Integrates with Dash (web dashboards).\n",
        "\n",
        "     Works well for interactive data exploration, business analytics, presentations.\n",
        "\n",
        "     Outputs can be embedded in web apps (HTML, Jupyter Notebooks).\n",
        "\n",
        "4. Interactivity\n",
        "\n",
        "     - Matplotlib:\n",
        "\n",
        "     Mostly static. Limited interactivity.\n",
        "\n",
        "     Best for printing, PDFs, and academic publications.\n",
        "\n",
        "    - Plotly:\n",
        "\n",
        "     Fully interactive: hover tooltips, sliders, dropdowns, animations.\n",
        "\n",
        "     Great for exploratory data analysis and dashboards.\n",
        "\n",
        "5. 3D & Advanced Plots\n",
        "\n",
        "      - Matplotlib:\n",
        "\n",
        "     Has 3D support (mpl_toolkits.mplot3d), but it’s basic and limited.\n",
        "\n",
        "    - Plotly:\n",
        "\n",
        "     Rich 3D plotting (scatter3d, surface plots, choropleth maps).\n",
        "\n",
        "     Much better for complex visualizations."
      ],
      "metadata": {
        "id": "3OOElXVv9eRj"
      }
    },
    {
      "cell_type": "markdown",
      "source": [
        "10. What is the significance of hierarchical indexing in Pandas?\n",
        "- Hierarchical indexing (MultiIndex) in Pandas means having multiple levels of index labels on rows or columns.\n",
        "\n",
        "     Instead of a single index (like 0, 1, 2...), you can have a tree-like structure with multiple dimensions of indexing.\n",
        "\n",
        "   It allows higher-dimensional data to be represented in a 2D DataFrame efficiently.\n",
        "\n",
        "  1. Represents Multi-dimensional Data in 2D\n",
        "\n",
        "     For example, sales data by Region → Year → Quarter.\n",
        "\n",
        "     Instead of creating separate columns, you can organize data hierarchically.\n",
        "\n",
        "2. Easier Data Analysis\n",
        "\n",
        "   You can group, slice, and filter data more naturally.\n",
        "\n",
        "   Example: Get all sales from \"Asia\" in 2022 across all quarters.\n",
        "\n",
        "3. Powerful GroupBy Results\n",
        "\n",
        "   Many operations like .groupby() automatically return results with a MultiIndex.\n",
        "\n",
        "4. Cleaner Representation\n",
        "\n",
        "   Instead of reshaping into wide tables, hierarchical indexing keeps data compact and tidy."
      ],
      "metadata": {
        "id": "D46-NKf_-vGY"
      }
    },
    {
      "cell_type": "markdown",
      "source": [
        "11.  What is the role of Seaborn’s pairplot() function?\n",
        " - The pairplot() function in Seaborn is used to create a matrix of plots that shows pairwise relationships between multiple numerical variables in a dataset.\n",
        "\n",
        "     It plots a scatter plot for every pair of variables.\n",
        "\n",
        "     On the diagonal, it shows the distribution (histogram / KDE) of each variable.\n",
        "\n",
        "     If a categorical variable (hue) is provided, points are colored by category.\n",
        "\n",
        "   In short: pairplot() is a quick way to visualize relationships and distributions for all variables at once.\n",
        "\n",
        "   Role / Purpose of pairplot()\n",
        "\n",
        "  1. Explore Correlations\n",
        "\n",
        "   Helps detect linear / non-linear relationships between variables.\n",
        "\n",
        "  2. Understand Distributions\n",
        "\n",
        "   Diagonal plots show how each variable is distributed (normal, skewed, etc.).\n",
        "\n",
        "  3. Identify Clusters or Groups\n",
        "\n",
        "     With hue, you can see how different categories (e.g., species, gender) are distributed across features.\n",
        "\n",
        "  4. Detect Outliers\n",
        "\n",
        "     Outliers in scatter plots stand out clearly.\n",
        "\n",
        "  5.  EDA (Exploratory Data Analysis)\n",
        "\n",
        "     A go-to tool for initial data exploration in machine learning or statistics."
      ],
      "metadata": {
        "id": "mGrBqBkH_RFh"
      }
    },
    {
      "cell_type": "markdown",
      "source": [
        "12. What is the purpose of the describe() function in Pandas?\n",
        "-  Purpose of describe() in Pandas\n",
        "\n",
        "   The describe() function in Pandas is used to generate descriptive statistics of a DataFrame (or Series).\n",
        "\n",
        "   Its purpose is to give you a quick statistical summary of your dataset so you can understand:\n",
        "\n",
        "    - How many values are present (count)\n",
        "\n",
        "    - What the central tendency is (mean, median)\n",
        "\n",
        "    - How spread out the data is (std, quartiles)\n",
        "\n",
        "    - What the extremes are (min, max)"
      ],
      "metadata": {
        "id": "1X2WW5uCAEhA"
      }
    },
    {
      "cell_type": "markdown",
      "source": [
        "13. Why is handling missing data important in Pandas?\n",
        "- In real-world datasets, it’s very common to have missing values (NaN, None, Null).\n",
        "If not handled properly, missing data can cause errors, biases, or misleading results in your analysis or machine learning models.\n",
        "\n",
        "🔹 Reasons Why Handling Missing Data Matters\n",
        "\n",
        "1. Prevents Errors in Computation\n",
        "\n",
        "   Many operations (like mean(), sum(), correlations, or ML algorithms) can fail or return NaN if missing values are present.\n",
        "\n",
        "2. Avoids Biased Analysis\n",
        "\n",
        "   Ignoring missing values without strategy may bias results.\n",
        "\n",
        "   Example: If high-income entries are missing in a Salary column, the average salary will look lower than reality.\n",
        "\n",
        "3. Improves Model Accuracy (in ML)\n",
        "\n",
        "   Machine learning models cannot train on NaN values.\n",
        "\n",
        "   Proper handling (imputation, removal, or interpolation) ensures models learn correctly.\n",
        "\n",
        "4. Keeps Data Consistent\n",
        "\n",
        "     Missing data may appear randomly or follow a pattern (like missing values in only one group).\n",
        "\n",
        "Handling them helps maintain consistency across the dataset.\n",
        "\n",
        "5. Ensures Reliable Insights\n",
        "\n",
        "Visualizations and statistical summaries (describe(), plots, correlations) can be misleading if missing data isn’t addressed."
      ],
      "metadata": {
        "id": "RS1LThFHPTTw"
      }
    },
    {
      "cell_type": "markdown",
      "source": [
        "14.  What are the benefits of using Plotly for data visualization?\n",
        "- 🔹 Benefits of Using Plotly for Data Visualization\n",
        "\n",
        "-  Interactive Visualizations\n",
        "\n",
        "   Unlike Matplotlib or Seaborn (mostly static), Plotly charts are interactive by default:\n",
        "\n",
        "  Hover tooltips\n",
        "\n",
        "   Zoom in/out\n",
        "\n",
        "  Pan across charts\n",
        "\n",
        "  Click-to-hide/show traces\n",
        "\n",
        "   This makes data exploration much easier.\n",
        "-  Wide Variety of Charts\n",
        "\n",
        "   Supports both basic plots (line, bar, scatter, histograms) and advanced visualizations:\n",
        "\n",
        "   Heatmaps\n",
        "\n",
        "   3D plots\n",
        "\n",
        "   Choropleth maps (geographical data)\n",
        "\n",
        "   Time series\n",
        "\n",
        "   Dashboards\n",
        "\n",
        "   This versatility makes it useful across different domains.\n",
        "-  Easy Integration with Dash for Dashboards\n",
        "\n",
        "   Plotly integrates seamlessly with Dash, a framework for building interactive web-based dashboards in Python, without needing JavaScript.\n",
        "\n",
        "-  High-Quality, Publication-Ready Graphics\n",
        "\n",
        "   Produces beautiful, polished, and professional-looking visuals.\n",
        "\n",
        "   Can be exported as static images (PNG, PDF, SVG) or embedded in web apps.\n",
        "-  Works Across Environments\n",
        "\n",
        "  Runs in Jupyter Notebooks, standalone HTML files, web apps, or enterprise dashboards.\n",
        "\n",
        "  Fully browser-based rendering.\n",
        "\n",
        "-  Large Dataset Handling\n",
        "\n",
        "   Efficiently handles large datasets using WebGL (for scatter plots with millions of points).\n",
        "\n",
        "-  Customization & Animation\n",
        "\n",
        "  Extensive customization of styles, colors, and layouts.\n",
        "\n",
        "   Supports animated plots, making it great for showing changes over time."
      ],
      "metadata": {
        "id": "jz60Ild_P8UZ"
      }
    },
    {
      "cell_type": "markdown",
      "source": [
        "15. How does NumPy handle multidimensional arrays?\n",
        "-  NumPy and Multidimensional Arrays\n",
        "\n",
        "   NumPy’s main data structure is the ndarray (n-dimensional array).\n",
        "It can handle 1D (vectors), 2D (matrices), and higher dimensions (tensors) efficiently.\n",
        "\n",
        "1. Creation of Multidimensional Arrays\n",
        "\n",
        "   You can create arrays with multiple dimensions using np.array() or functions like zeros(), ones(), reshape(), etc.\n",
        "\n",
        "  2. Key Attributes for Multidimensional Arrays\n",
        "\n",
        "  Every NumPy array has important properties\n",
        "\n",
        " 3. Indexing & Slicing\n",
        "\n",
        "  You can access elements across multiple dimensions\n",
        "\n",
        " 4. Vectorized Operations Across Dimensions\n",
        "\n",
        "  NumPy applies operations element-wise, regardless of dimensions\n",
        "\n",
        "  5. Reshaping and Transposing\n",
        "\n",
        "   Reshape to change dimensions without changing data\n"
      ],
      "metadata": {
        "id": "RxcP0EsYQ5LS"
      }
    },
    {
      "cell_type": "markdown",
      "source": [
        "16.  What is the role of Bokeh in data visualization?\n",
        "- 🔹 Role of Bokeh in Data Visualization\n",
        "\n",
        "     Bokeh is a Python library for interactive, web-ready visualizations.\n",
        "Its main purpose is to create interactive plots, dashboards, and data applications that can run in a web browser, without needing JavaScript.\n",
        "\n",
        "   Key Roles of Bokeh\n",
        "\n",
        "1. Interactive Visualizations (Web-Ready)\n",
        "\n",
        "   Bokeh produces highly interactive plots (zoom, pan, hover tooltips, linked brushing) that work directly in a browser.\n",
        "\n",
        "  Outputs to HTML, Jupyter Notebooks, or Bokeh Server.\n",
        "\n",
        "2. Bridging Python with Web Technologies\n",
        "\n",
        "   Normally, web-based visualizations require JavaScript (D3.js, etc.).\n",
        "\n",
        "     Bokeh lets you write pure Python code while it handles the JavaScript under the hood.\n",
        "\n",
        " 3. Dashboard and App Development\n",
        "\n",
        "     With Bokeh Server, you can build real-time, data-driven dashboards.\n",
        "\n",
        "     Useful for live monitoring (e.g., stock prices, IoT sensors, streaming data).\n",
        "\n",
        "4. Scalable and High-Performance Visuals\n",
        "\n",
        "   Supports large datasets with WebGL rendering for speed.\n",
        "\n",
        "   Integrates with Pandas, NumPy, Dask, and Databases for handling big data.\n",
        "\n",
        "5. Customizable & Extensible\n",
        "\n",
        "   Offers low-level tools (like glyphs, layouts) for custom charts.\n",
        "\n",
        "  Also has high-level APIs (bokeh.plotting, bokeh.charts) for quick plotting."
      ],
      "metadata": {
        "id": "yo9VsD87SJF3"
      }
    },
    {
      "cell_type": "markdown",
      "source": [
        "17.  Explain the difference between apply() and map() in Pandas?\n",
        "-  This often confuses learners because both apply() and map() in Pandas seem similar, but they’re used a bit differently.\n",
        "\n",
        " Difference between apply() and map() in Pandas\n",
        "1. map()\n",
        "\n",
        "   Used only with Series (1D data).\n",
        "\n",
        "   Applies a function element-wise to each value.\n",
        "\n",
        "   Can take:\n",
        "\n",
        "   a function\n",
        "\n",
        "   a dictionary (for mapping values)\n",
        "\n",
        "   a Series\n",
        "\n",
        " 2.   apply()\n",
        "\n",
        "   Works on both DataFrame (2D) and Series (1D).\n",
        "\n",
        "   More flexible than map().\n",
        "\n",
        "   Can apply a function:\n",
        "\n",
        "   element-wise (Series)\n",
        "\n",
        "   row-wise (axis=1 for DataFrame)\n",
        "\n",
        "   column-wise (axis=0 for DataFrame)"
      ],
      "metadata": {
        "id": "qfS7dBPAS3UD"
      }
    },
    {
      "cell_type": "markdown",
      "source": [
        "18.  What are some advanced features of NumPy?\n",
        " - NumPy is much more than just arrays and basic math. It has advanced features that make it extremely powerful for numerical computing.\n",
        "\n",
        "🔹 Advanced Features of NumPy\n",
        "1.  Broadcasting\n",
        "\n",
        "   Lets NumPy perform arithmetic operations on arrays of different shapes without explicit loops.\n",
        "\n",
        "  2. Vectorization\n",
        "\n",
        "     Replaces slow Python loops with fast, low-level C operations.\n",
        "\n",
        "  3.  Advanced Indexing & Slicing\n",
        "\n",
        "     Boolean indexing\n",
        "\n",
        " 4. Structured Arrays\n",
        "\n",
        "     Store heterogeneous data (like a database table).\n",
        "\n",
        " 5. Masked Arrays\n",
        "\n",
        "     Handle missing or invalid data.\n",
        "\n",
        " 6. Random Number Generation (numpy.random)\n",
        "\n",
        "     Supports uniform, normal, binomial distributions, etc.\n",
        "\n",
        " 7. Linear Algebra (numpy.linalg)\n",
        "\n",
        "     Determinants, eigenvalues, matrix inverses, singular value decomposition (SVD), etc.\n",
        "\n",
        "8.  Fourier Transforms (numpy.fft)\n",
        "\n",
        "     Fast Fourier Transform for signal processing."
      ],
      "metadata": {
        "id": "-7YWT2LcTwBn"
      }
    },
    {
      "cell_type": "markdown",
      "source": [
        "19. How does Pandas simplify time series analysis?\n",
        "- 🔹 Pandas was originally built for financial data analysis, so it has strong, built-in support for time series.\n",
        "\n",
        "Here’s how Pandas simplifies time series analysis:\n",
        "\n",
        "   1. Date and Time Handling\n",
        "\n",
        "   Automatic parsing of date/time strings into datetime64 objects.\n",
        "\n",
        "  import pandas as pd\n",
        "\n",
        "   Create a DatetimeIndex\n",
        "\n",
        "   dates = pd.date_range(\"2023-01-01\", periods=5, freq=\"D\")\n",
        "   print(dates)\n",
        "\n",
        "\n",
        "  Easy creation of sequences like daily, monthly, yearly ranges.\n",
        "\n",
        "  -  2. Date Indexing & Slicing\n",
        "\n",
        "   Time series can be indexed by dates (DatetimeIndex).\n",
        "\n",
        "  Allows intuitive slicing:\n",
        "\n",
        "   ts = pd.Series([100, 200, 300, 400, 500], index=dates)\n",
        "\n",
        "  print(ts[\"2023-01-02\":\"2023-01-04\"])\n",
        "\n",
        "- 3. Resampling & Frequency Conversion\n",
        "\n",
        "   Easily switch between different time granularities.\n",
        "\n",
        "   resample() aggregates data (e.g., daily → monthly).\n",
        "\n",
        "   monthly = ts.resample(\"M\").mean()\n",
        "   print(monthly)\n",
        "\n",
        "-  4. Shifting and Lagging\n",
        "\n",
        "   Shift values forward/backward in time (useful in forecasting & lag features).\n",
        "\n",
        "   print(ts.shift(1))   # Lag by 1 day\n",
        "\n",
        "-  5. Rolling & Moving Window Statistics\n",
        "\n",
        "   Compute moving averages, rolling sums, exponential smoothing, etc.\n",
        "\n",
        "   print(ts.rolling(window=3).mean())\n",
        "\n",
        "-  6. Handling Missing Data in Time Series\n",
        "\n",
        "   Fill gaps with forward/backward fill, interpolation.\n",
        "\n",
        "   ts2 = ts.reindex(pd.date_range(\"2023-01-01\", \"2023-01-07\"))\n",
        "\n",
        "   print(ts2.fillna(method=\"ffill\"))\n",
        "\n",
        "-  7. Time Zone Handling\n",
        "\n",
        "   Easy conversion between time zones.\n",
        "\n",
        "   dates = pd.date_range(\"2023-01-01\", periods=3, freq=\"D\", tz=\"UTC\")\n",
        "\n",
        "   print(dates.tz_convert(\"Asia/Kolkata\"))\n",
        "\n",
        "-  8. Period & Business Time Support\n",
        "\n",
        "   Business day frequency (B), month end (M), quarter end (Q), etc."
      ],
      "metadata": {
        "id": "d2kPps7NVsFx"
      }
    },
    {
      "cell_type": "markdown",
      "source": [
        "20.  What is the role of a pivot table in Pandas?\n",
        "- Pivot tables in Pandas play a big role in summarizing and analyzing data, especially when dealing with large datasets.\n",
        "\n",
        "-  What is a Pivot Table in Pandas:\n",
        "\n",
        "   A pivot table in Pandas is a way to reshape and summarize data.\n",
        "     \n",
        "  It works like Excel’s Pivot Table:\n",
        "\n",
        "   Groups data\n",
        "\n",
        "  Aggregates values (sum, mean, count, etc.)\n",
        "\n",
        "  Provides a multi-dimensional summary of data.\n",
        "\n",
        "   In Pandas, it’s done using pivot_table().\n",
        "\n",
        "   - Simplifies data analysis by aggregating information.\n",
        "\n",
        "  - Lets you summarize data across categories.\n",
        "\n",
        "  - Helps in multi-dimensional analysis (e.g., sales by region and product)."
      ],
      "metadata": {
        "id": "HYaX2Z_FW34K"
      }
    },
    {
      "cell_type": "markdown",
      "source": [
        "21. Why is NumPy’s array slicing faster than Python’s list slicing?\n",
        "- the speed difference between NumPy array slicing and Python list slicing is one of the main reasons NumPy is preferred in data science.\n",
        "\n",
        "🔹 Why NumPy’s array slicing is faster than Python’s list slicing\n",
        "1.  Memory Layout\n",
        "\n",
        "   Python lists are collections of pointers to objects stored in memory (each element can be of any type).\n",
        "\n",
        "   NumPy arrays store elements in a contiguous block of memory, all of the same data type.\n",
        "  This means NumPy can access slices using direct memory offsets without extra lookups.\n",
        "\n",
        "2.  Views vs Copies\n",
        "\n",
        "   NumPy slicing usually returns a view of the original array (no data is copied).\n",
        "\n",
        "  The slice just points to the same memory block, making it very fast.\n",
        "\n",
        "  Python list slicing creates a new list object with copies of the sliced elements.\n",
        "\n",
        "  3. Vectorization and Low-Level Optimization\n",
        "\n",
        "NumPy is implemented in C (CPython extension).\n",
        "\n",
        "   Operations like slicing, indexing, and math are done at compiled speed instead of Python’s slower interpreter.\n",
        "\n",
        "Avoids Python-level loops → huge performance gain.\n",
        "\n",
        "4. Type Homogeneity\n",
        "\n",
        "   NumPy arrays are homogeneous (all elements of the same type), so slicing is just a matter of computing the memory address offset.\n",
        "\n",
        "   Python lists are heterogeneous (can store any object), so slicing involves copying references one by one.\n",
        "\n"
      ],
      "metadata": {
        "id": "jcbyhrOOXcyI"
      }
    },
    {
      "cell_type": "markdown",
      "source": [
        "22. What are some common use cases for Seaborn?\n",
        "- Seaborn is a high-level Python library for statistical data visualization (built on top of Matplotlib).\n",
        "It’s designed to make complex plots simple and is widely used in exploratory data analysis (EDA).\n",
        "\n",
        "🔹 Common Use Cases for Seaborn\n",
        "1. Exploring Distributions\n",
        "\n",
        "   Understand how data is spread, detect skewness, outliers, etc.\n",
        "\n",
        "   Functions: histplot(), kdeplot(), distplot() (deprecated but still common).\n",
        "\n",
        "2.  Comparing Categories\n",
        "\n",
        "  Compare values across categories using bar/box/violin plots.\n",
        "\n",
        "  Functions: barplot(), countplot(), boxplot(), violinplot(), stripplot().\n",
        "   \n",
        "3. Correlation & Relationships\n",
        "\n",
        "   Visualize relationships between numeric variables.\n",
        "\n",
        "   Functions: scatterplot(), lineplot(), jointplot(), regplot()\n",
        "\n",
        "4.  Heatmaps & Correlation Matrices\n",
        "\n",
        "   Show matrix-like data (e.g., correlations, confusion matrices).\n",
        "\n",
        "  Function: heatmap().\n",
        "\n",
        "5.  Pairwise Relationships\n",
        "\n",
        "   Explore all variable relationships at once in multivariate data.\n",
        "\n",
        "   Function: pairplot().\n",
        "\n",
        "6. Time Series & Trends\n",
        "\n",
        "   Plot trends over time (line plots with statistical confidence intervals).\n",
        "\n",
        "   Function: lineplot().\n",
        "\n",
        "7. Categorical Data Distributions\n",
        "\n",
        "Compare how different groups are distributed.\n",
        "\n",
        "Function: catplot() (general-purpose for categorical visualization)."
      ],
      "metadata": {
        "id": "XW5WykhDHCCh"
      }
    },
    {
      "cell_type": "markdown",
      "source": [
        "# Data Toolkit Practical"
      ],
      "metadata": {
        "id": "TXijMV7aIQNh"
      }
    },
    {
      "cell_type": "markdown",
      "source": [
        " 1. How do you create a 2D NumPy array and calculate the sum of each row?\n",
        " - Creating a 2D NumPy Array\n",
        "\n",
        "   A 2D NumPy array is like a matrix (rows × columns). You can create it with np.array() or functions like np.arange(), np.ones(), etc."
      ],
      "metadata": {
        "id": "LUtoPVPuInW2"
      }
    },
    {
      "cell_type": "code",
      "source": [
        "import numpy as np\n",
        "\n",
        "# Create a 2D NumPy array (3 rows × 4 columns)\n",
        "arr = np.array([\n",
        "    [1, 2, 3, 4],\n",
        "    [5, 6, 7, 8],\n",
        "    [9, 10, 11, 12]\n",
        "])\n",
        "\n",
        "print(\"2D Array:\\n\", arr)\n"
      ],
      "metadata": {
        "colab": {
          "base_uri": "https://localhost:8080/"
        },
        "id": "ZZALqMYnI9Fk",
        "outputId": "7f23fbd6-7c90-43d7-d4fc-ae3d43c43d2b"
      },
      "execution_count": null,
      "outputs": [
        {
          "output_type": "stream",
          "name": "stdout",
          "text": [
            "2D Array:\n",
            " [[ 1  2  3  4]\n",
            " [ 5  6  7  8]\n",
            " [ 9 10 11 12]]\n"
          ]
        }
      ]
    },
    {
      "cell_type": "markdown",
      "source": [
        "2.  Write a Pandas script to find the mean of a specific column in a DataFrame.\n",
        "- Let’s write a Pandas script that finds the mean of a specific column in a DataFrame."
      ],
      "metadata": {
        "id": "CUm10CSeJDLw"
      }
    },
    {
      "cell_type": "code",
      "source": [
        "import pandas as pd\n",
        "\n",
        "# Create a sample DataFrame\n",
        "data = {\n",
        "    \"Name\": [\"Alice\", \"Bob\", \"Charlie\", \"David\"],\n",
        "    \"Age\": [25, 30, 35, 40],\n",
        "    \"Salary\": [50000, 60000, 75000, 80000]\n",
        "}\n",
        "\n",
        "df = pd.DataFrame(data)\n",
        "\n",
        "print(\"DataFrame:\\n\", df)\n",
        "\n",
        "# Find the mean of a specific column (e.g., \"Salary\")\n",
        "mean_salary = df[\"Salary\"].mean()\n",
        "print(\"\\nMean Salary:\", mean_salary)\n",
        "\n",
        "# Mean of another column (e.g., \"Age\")\n",
        "mean_age = df[\"Age\"].mean()\n",
        "print(\"Mean Age:\", mean_age)\n"
      ],
      "metadata": {
        "colab": {
          "base_uri": "https://localhost:8080/"
        },
        "id": "RG4MMyihJRZX",
        "outputId": "850e8a11-cf68-411f-c893-d900a16dc980"
      },
      "execution_count": null,
      "outputs": [
        {
          "output_type": "stream",
          "name": "stdout",
          "text": [
            "DataFrame:\n",
            "       Name  Age  Salary\n",
            "0    Alice   25   50000\n",
            "1      Bob   30   60000\n",
            "2  Charlie   35   75000\n",
            "3    David   40   80000\n",
            "\n",
            "Mean Salary: 66250.0\n",
            "Mean Age: 32.5\n"
          ]
        }
      ]
    },
    {
      "cell_type": "markdown",
      "source": [
        "3.  Create a scatter plot using Matplotlib.\n",
        "- Let’s create a scatter plot using Matplotlib."
      ],
      "metadata": {
        "id": "8LtyXbfdJYej"
      }
    },
    {
      "cell_type": "code",
      "source": [
        "import matplotlib.pyplot as plt\n",
        "\n",
        "# Sample data\n",
        "x = [5, 7, 8, 7, 6, 9, 5, 6, 7, 8]\n",
        "y = [99, 86, 87, 88, 100, 86, 103, 87, 94, 78]\n",
        "\n",
        "# Create scatter plot\n",
        "plt.scatter(x, y, color=\"blue\", marker=\"o\", s=100, alpha=0.7)\n",
        "\n",
        "# Add labels and title\n",
        "plt.xlabel(\"X-axis: Study Hours\")\n",
        "plt.ylabel(\"Y-axis: Test Scores\")\n",
        "plt.title(\"Scatter Plot Example\")\n",
        "\n",
        "# Show plot\n",
        "plt.show()\n"
      ],
      "metadata": {
        "colab": {
          "base_uri": "https://localhost:8080/",
          "height": 472
        },
        "id": "1p-9-mMBJ3Uk",
        "outputId": "847615cf-6353-472d-b56e-6976cc1c0aa7"
      },
      "execution_count": null,
      "outputs": [
        {
          "output_type": "display_data",
          "data": {
            "text/plain": [
              "<Figure size 640x480 with 1 Axes>"
            ],
            "image/png": "[encoded data removed]"
          },
          "metadata": {}
        }
      ]
    },
    {
      "cell_type": "markdown",
      "source": [
        "4.  How do you calculate the correlation matrix using Seaborn and visualize it with a heatmap?\n",
        "- Calculating and visualizing a correlation matrix is one of the most common tasks in exploratory data analysis (EDA).\n",
        "\n",
        "Here’s how you can do it step by step using Pandas + Seaborn:\n"
      ],
      "metadata": {
        "id": "hGv8PpdXJ-mc"
      }
    },
    {
      "cell_type": "code",
      "source": [
        "import pandas as pd\n",
        "import seaborn as sns\n",
        "import matplotlib.pyplot as plt\n",
        "\n",
        "# Sample DataFrame\n",
        "data = {\n",
        "    \"Math\": [85, 78, 92, 88, 76, 95],\n",
        "    \"Science\": [89, 74, 90, 92, 70, 96],\n",
        "    \"English\": [78, 82, 85, 80, 77, 89],\n",
        "    \"History\": [70, 75, 80, 78, 74, 82]\n",
        "}\n",
        "\n",
        "df = pd.DataFrame(data)\n",
        "\n",
        "# 1️⃣ Calculate correlation matrix\n",
        "corr_matrix = df.corr()\n",
        "print(\"Correlation Matrix:\\n\", corr_matrix)\n",
        "\n",
        "# 2️⃣ Visualize with Seaborn heatmap\n",
        "plt.figure(figsize=(6,4))\n",
        "sns.heatmap(corr_matrix, annot=True, cmap=\"coolwarm\", linewidths=0.5)\n",
        "plt.title(\"Correlation Matrix Heatmap\")\n",
        "plt.show()\n"
      ],
      "metadata": {
        "id": "WM4Ruh2WKSVj",
        "outputId": "b99bb5f2-a664-4bfb-9295-b0ceadb52356",
        "colab": {
          "base_uri": "https://localhost:8080/",
          "height": 500
        }
      },
      "execution_count": null,
      "outputs": [
        {
          "output_type": "stream",
          "name": "stdout",
          "text": [
            "Correlation Matrix:\n",
            "              Math   Science   English   History\n",
            "Math     1.000000  0.946643  0.762819  0.708774\n",
            "Science  0.946643  1.000000  0.573217  0.505198\n",
            "English  0.762819  0.573217  1.000000  0.852684\n",
            "History  0.708774  0.505198  0.852684  1.000000\n"
          ]
        },
        {
          "output_type": "display_data",
          "data": {
            "text/plain": [
              "<Figure size 600x400 with 2 Axes>"
            ],
            "image/png": "[encoded data removed]"
          },
          "metadata": {}
        }
      ]
    },
    {
      "cell_type": "markdown",
      "source": [
        "5.  Generate a bar plot using Plotly.\n",
        "- Plotly makes it really easy to create interactive bar plots.\n"
      ],
      "metadata": {
        "id": "yBkcn5N8KjZw"
      }
    },
    {
      "cell_type": "code",
      "source": [
        "import plotly.express as px\n",
        "import pandas as pd\n",
        "\n",
        "# Sample data\n",
        "data = {\n",
        "    \"Fruits\": [\"Apples\", \"Bananas\", \"Cherries\", \"Dates\", \"Elderberries\"],\n",
        "    \"Quantity\": [10, 15, 7, 20, 5]\n",
        "}\n",
        "\n",
        "df = pd.DataFrame(data)\n",
        "\n",
        "# Create bar plot\n",
        "fig = px.bar(df, x=\"Fruits\", y=\"Quantity\", color=\"Fruits\",\n",
        "             title=\"Fruit Quantity Bar Plot\")\n",
        "\n",
        "# Show plot\n",
        "fig.show()\n"
      ],
      "metadata": {
        "colab": {
          "base_uri": "https://localhost:8080/",
          "height": 542
        },
        "id": "ChvKaSKwKvea",
        "outputId": "a0d3c699-994d-4904-837a-e4e770586811"
      },
      "execution_count": 5,
      "outputs": [
        {
          "output_type": "display_data",
          "data": {
            "text/html": [
              "<html>\n",
              "<head><meta charset=\"utf-8\" /></head>\n",
              "<body>\n",
              "    <div>            <script src=\"https://cdnjs.cloudflare.com/ajax/libs/mathjax/2.7.5/MathJax.js?config=TeX-AMS-MML_SVG\"></script><script type=\"text/javascript\">if (window.MathJax && window.MathJax.Hub && window.MathJax.Hub.Config) {window.MathJax.Hub.Config({SVG: {font: \"STIX-Web\"}});}</script>                <script type=\"text/javascript\">window.PlotlyConfig = {MathJaxConfig: 'local'};</script>\n",
              "        <script charset=\"utf-8\" src=\"https://cdn.plot.ly/plotly-2.35.2.min.js\"></script>                <div id=\"4ef471f2-3111-44dd-b14e-5b8095bd97db\" class=\"plotly-graph-div\" style=\"height:525px; width:100%;\"></div>            <script type=\"text/javascript\">                                    window.PLOTLYENV=window.PLOTLYENV || {};                                    if (document.getElementById(\"4ef471f2-3111-44dd-b14e-5b8095bd97db\")) {                    Plotly.newPlot(                        \"4ef471f2-3111-44dd-b14e-5b8095bd97db\",                        [{\"alignmentgroup\":\"True\",\"hovertemplate\":\"Fruits=%{x}\\u003cbr\\u003eQuantity=%{y}\\u003cextra\\u003e\\u003c\\u002fextra\\u003e\",\"legendgroup\":\"Apples\",\"marker\":{\"color\":\"#636efa\",\"pattern\":{\"shape\":\"\"}},\"name\":\"Apples\",\"offsetgroup\":\"Apples\",\"orientation\":\"v\",\"showlegend\":true,\"textposition\":\"auto\",\"x\":[\"Apples\"],\"xaxis\":\"x\",\"y\":[10],\"yaxis\":\"y\",\"type\":\"bar\"},{\"alignmentgroup\":\"True\",\"hovertemplate\":\"Fruits=%{x}\\u003cbr\\u003eQuantity=%{y}\\u003cextra\\u003e\\u003c\\u002fextra\\u003e\",\"legendgroup\":\"Bananas\",\"marker\":{\"color\":\"#EF553B\",\"pattern\":{\"shape\":\"\"}},\"name\":\"Bananas\",\"offsetgroup\":\"Bananas\",\"orientation\":\"v\",\"showlegend\":true,\"textposition\":\"auto\",\"x\":[\"Bananas\"],\"xaxis\":\"x\",\"y\":[15],\"yaxis\":\"y\",\"type\":\"bar\"},{\"alignmentgroup\":\"True\",\"hovertemplate\":\"Fruits=%{x}\\u003cbr\\u003eQuantity=%{y}\\u003cextra\\u003e\\u003c\\u002fextra\\u003e\",\"legendgroup\":\"Cherries\",\"marker\":{\"color\":\"#00cc96\",\"pattern\":{\"shape\":\"\"}},\"name\":\"Cherries\",\"offsetgroup\":\"Cherries\",\"orientation\":\"v\",\"showlegend\":true,\"textposition\":\"auto\",\"x\":[\"Cherries\"],\"xaxis\":\"x\",\"y\":[7],\"yaxis\":\"y\",\"type\":\"bar\"},{\"alignmentgroup\":\"True\",\"hovertemplate\":\"Fruits=%{x}\\u003cbr\\u003eQuantity=%{y}\\u003cextra\\u003e\\u003c\\u002fextra\\u003e\",\"legendgroup\":\"Dates\",\"marker\":{\"color\":\"#ab63fa\",\"pattern\":{\"shape\":\"\"}},\"name\":\"Dates\",\"offsetgroup\":\"Dates\",\"orientation\":\"v\",\"showlegend\":true,\"textposition\":\"auto\",\"x\":[\"Dates\"],\"xaxis\":\"x\",\"y\":[20],\"yaxis\":\"y\",\"type\":\"bar\"},{\"alignmentgroup\":\"True\",\"hovertemplate\":\"Fruits=%{x}\\u003cbr\\u003eQuantity=%{y}\\u003cextra\\u003e\\u003c\\u002fextra\\u003e\",\"legendgroup\":\"Elderberries\",\"marker\":{\"color\":\"#FFA15A\",\"pattern\":{\"shape\":\"\"}},\"name\":\"Elderberries\",\"offsetgroup\":\"Elderberries\",\"orientation\":\"v\",\"showlegend\":true,\"textposition\":\"auto\",\"x\":[\"Elderberries\"],\"xaxis\":\"x\",\"y\":[5],\"yaxis\":\"y\",\"type\":\"bar\"}],                        {\"template\":{\"data\":{\"histogram2dcontour\":[{\"type\":\"histogram2dcontour\",\"colorbar\":{\"outlinewidth\":0,\"ticks\":\"\"},\"colorscale\":[[0.0,\"#0d0887\"],[0.1111111111111111,\"#46039f\"],[0.2222222222222222,\"#7201a8\"],[0.3333333333333333,\"#9c179e\"],[0.4444444444444444,\"#bd3786\"],[0.5555555555555556,\"#d8576b\"],[0.6666666666666666,\"#ed7953\"],[0.7777777777777778,\"#fb9f3a\"],[0.8888888888888888,\"#fdca26\"],[1.0,\"#f0f921\"]]}],\"choropleth\":[{\"type\":\"choropleth\",\"colorbar\":{\"outlinewidth\":0,\"ticks\":\"\"}}],\"histogram2d\":[{\"type\":\"histogram2d\",\"colorbar\":{\"outlinewidth\":0,\"ticks\":\"\"},\"colorscale\":[[0.0,\"#0d0887\"],[0.1111111111111111,\"#46039f\"],[0.2222222222222222,\"#7201a8\"],[0.3333333333333333,\"#9c179e\"],[0.4444444444444444,\"#bd3786\"],[0.5555555555555556,\"#d8576b\"],[0.6666666666666666,\"#ed7953\"],[0.7777777777777778,\"#fb9f3a\"],[0.8888888888888888,\"#fdca26\"],[1.0,\"#f0f921\"]]}],\"heatmap\":[{\"type\":\"heatmap\",\"colorbar\":{\"outlinewidth\":0,\"ticks\":\"\"},\"colorscale\":[[0.0,\"#0d0887\"],[0.1111111111111111,\"#46039f\"],[0.2222222222222222,\"#7201a8\"],[0.3333333333333333,\"#9c179e\"],[0.4444444444444444,\"#bd3786\"],[0.5555555555555556,\"#d8576b\"],[0.6666666666666666,\"#ed7953\"],[0.7777777777777778,\"#fb9f3a\"],[0.8888888888888888,\"#fdca26\"],[1.0,\"#f0f921\"]]}],\"heatmapgl\":[{\"type\":\"heatmapgl\",\"colorbar\":{\"outlinewidth\":0,\"ticks\":\"\"},\"colorscale\":[[0.0,\"#0d0887\"],[0.1111111111111111,\"#46039f\"],[0.2222222222222222,\"#7201a8\"],[0.3333333333333333,\"#9c179e\"],[0.4444444444444444,\"#bd3786\"],[0.5555555555555556,\"#d8576b\"],[0.6666666666666666,\"#ed7953\"],[0.7777777777777778,\"#fb9f3a\"],[0.8888888888888888,\"#fdca26\"],[1.0,\"#f0f921\"]]}],\"contourcarpet\":[{\"type\":\"contourcarpet\",\"colorbar\":{\"outlinewidth\":0,\"ticks\":\"\"}}],\"contour\":[{\"type\":\"contour\",\"colorbar\":{\"outlinewidth\":0,\"ticks\":\"\"},\"colorscale\":[[0.0,\"#0d0887\"],[0.1111111111111111,\"#46039f\"],[0.2222222222222222,\"#7201a8\"],[0.3333333333333333,\"#9c179e\"],[0.4444444444444444,\"#bd3786\"],[0.5555555555555556,\"#d8576b\"],[0.6666666666666666,\"#ed7953\"],[0.7777777777777778,\"#fb9f3a\"],[0.8888888888888888,\"#fdca26\"],[1.0,\"#f0f921\"]]}],\"surface\":[{\"type\":\"surface\",\"colorbar\":{\"outlinewidth\":0,\"ticks\":\"\"},\"colorscale\":[[0.0,\"#0d0887\"],[0.1111111111111111,\"#46039f\"],[0.2222222222222222,\"#7201a8\"],[0.3333333333333333,\"#9c179e\"],[0.4444444444444444,\"#bd3786\"],[0.5555555555555556,\"#d8576b\"],[0.6666666666666666,\"#ed7953\"],[0.7777777777777778,\"#fb9f3a\"],[0.8888888888888888,\"#fdca26\"],[1.0,\"#f0f921\"]]}],\"mesh3d\":[{\"type\":\"mesh3d\",\"colorbar\":{\"outlinewidth\":0,\"ticks\":\"\"}}],\"scatter\":[{\"fillpattern\":{\"fillmode\":\"overlay\",\"size\":10,\"solidity\":0.2},\"type\":\"scatter\"}],\"parcoords\":[{\"type\":\"parcoords\",\"line\":{\"colorbar\":{\"outlinewidth\":0,\"ticks\":\"\"}}}],\"scatterpolargl\":[{\"type\":\"scatterpolargl\",\"marker\":{\"colorbar\":{\"outlinewidth\":0,\"ticks\":\"\"}}}],\"bar\":[{\"error_x\":{\"color\":\"#2a3f5f\"},\"error_y\":{\"color\":\"#2a3f5f\"},\"marker\":{\"line\":{\"color\":\"#E5ECF6\",\"width\":0.5},\"pattern\":{\"fillmode\":\"overlay\",\"size\":10,\"solidity\":0.2}},\"type\":\"bar\"}],\"scattergeo\":[{\"type\":\"scattergeo\",\"marker\":{\"colorbar\":{\"outlinewidth\":0,\"ticks\":\"\"}}}],\"scatterpolar\":[{\"type\":\"scatterpolar\",\"marker\":{\"colorbar\":{\"outlinewidth\":0,\"ticks\":\"\"}}}],\"histogram\":[{\"marker\":{\"pattern\":{\"fillmode\":\"overlay\",\"size\":10,\"solidity\":0.2}},\"type\":\"histogram\"}],\"scattergl\":[{\"type\":\"scattergl\",\"marker\":{\"colorbar\":{\"outlinewidth\":0,\"ticks\":\"\"}}}],\"scatter3d\":[{\"type\":\"scatter3d\",\"line\":{\"colorbar\":{\"outlinewidth\":0,\"ticks\":\"\"}},\"marker\":{\"colorbar\":{\"outlinewidth\":0,\"ticks\":\"\"}}}],\"scattermapbox\":[{\"type\":\"scattermapbox\",\"marker\":{\"colorbar\":{\"outlinewidth\":0,\"ticks\":\"\"}}}],\"scatterternary\":[{\"type\":\"scatterternary\",\"marker\":{\"colorbar\":{\"outlinewidth\":0,\"ticks\":\"\"}}}],\"scattercarpet\":[{\"type\":\"scattercarpet\",\"marker\":{\"colorbar\":{\"outlinewidth\":0,\"ticks\":\"\"}}}],\"carpet\":[{\"aaxis\":{\"endlinecolor\":\"#2a3f5f\",\"gridcolor\":\"white\",\"linecolor\":\"white\",\"minorgridcolor\":\"white\",\"startlinecolor\":\"#2a3f5f\"},\"baxis\":{\"endlinecolor\":\"#2a3f5f\",\"gridcolor\":\"white\",\"linecolor\":\"white\",\"minorgridcolor\":\"white\",\"startlinecolor\":\"#2a3f5f\"},\"type\":\"carpet\"}],\"table\":[{\"cells\":{\"fill\":{\"color\":\"#EBF0F8\"},\"line\":{\"color\":\"white\"}},\"header\":{\"fill\":{\"color\":\"#C8D4E3\"},\"line\":{\"color\":\"white\"}},\"type\":\"table\"}],\"barpolar\":[{\"marker\":{\"line\":{\"color\":\"#E5ECF6\",\"width\":0.5},\"pattern\":{\"fillmode\":\"overlay\",\"size\":10,\"solidity\":0.2}},\"type\":\"barpolar\"}],\"pie\":[{\"automargin\":true,\"type\":\"pie\"}]},\"layout\":{\"autotypenumbers\":\"strict\",\"colorway\":[\"#636efa\",\"#EF553B\",\"#00cc96\",\"#ab63fa\",\"#FFA15A\",\"#19d3f3\",\"#FF6692\",\"#B6E880\",\"#FF97FF\",\"#FECB52\"],\"font\":{\"color\":\"#2a3f5f\"},\"hovermode\":\"closest\",\"hoverlabel\":{\"align\":\"left\"},\"paper_bgcolor\":\"white\",\"plot_bgcolor\":\"#E5ECF6\",\"polar\":{\"bgcolor\":\"#E5ECF6\",\"angularaxis\":{\"gridcolor\":\"white\",\"linecolor\":\"white\",\"ticks\":\"\"},\"radialaxis\":{\"gridcolor\":\"white\",\"linecolor\":\"white\",\"ticks\":\"\"}},\"ternary\":{\"bgcolor\":\"#E5ECF6\",\"aaxis\":{\"gridcolor\":\"white\",\"linecolor\":\"white\",\"ticks\":\"\"},\"baxis\":{\"gridcolor\":\"white\",\"linecolor\":\"white\",\"ticks\":\"\"},\"caxis\":{\"gridcolor\":\"white\",\"linecolor\":\"white\",\"ticks\":\"\"}},\"coloraxis\":{\"colorbar\":{\"outlinewidth\":0,\"ticks\":\"\"}},\"colorscale\":{\"sequential\":[[0.0,\"#0d0887\"],[0.1111111111111111,\"#46039f\"],[0.2222222222222222,\"#7201a8\"],[0.3333333333333333,\"#9c179e\"],[0.4444444444444444,\"#bd3786\"],[0.5555555555555556,\"#d8576b\"],[0.6666666666666666,\"#ed7953\"],[0.7777777777777778,\"#fb9f3a\"],[0.8888888888888888,\"#fdca26\"],[1.0,\"#f0f921\"]],\"sequentialminus\":[[0.0,\"#0d0887\"],[0.1111111111111111,\"#46039f\"],[0.2222222222222222,\"#7201a8\"],[0.3333333333333333,\"#9c179e\"],[0.4444444444444444,\"#bd3786\"],[0.5555555555555556,\"#d8576b\"],[0.6666666666666666,\"#ed7953\"],[0.7777777777777778,\"#fb9f3a\"],[0.8888888888888888,\"#fdca26\"],[1.0,\"#f0f921\"]],\"diverging\":[[0,\"#8e0152\"],[0.1,\"#c51b7d\"],[0.2,\"#de77ae\"],[0.3,\"#f1b6da\"],[0.4,\"#fde0ef\"],[0.5,\"#f7f7f7\"],[0.6,\"#e6f5d0\"],[0.7,\"#b8e186\"],[0.8,\"#7fbc41\"],[0.9,\"#4d9221\"],[1,\"#276419\"]]},\"xaxis\":{\"gridcolor\":\"white\",\"linecolor\":\"white\",\"ticks\":\"\",\"title\":{\"standoff\":15},\"zerolinecolor\":\"white\",\"automargin\":true,\"zerolinewidth\":2},\"yaxis\":{\"gridcolor\":\"white\",\"linecolor\":\"white\",\"ticks\":\"\",\"title\":{\"standoff\":15},\"zerolinecolor\":\"white\",\"automargin\":true,\"zerolinewidth\":2},\"scene\":{\"xaxis\":{\"backgroundcolor\":\"#E5ECF6\",\"gridcolor\":\"white\",\"linecolor\":\"white\",\"showbackground\":true,\"ticks\":\"\",\"zerolinecolor\":\"white\",\"gridwidth\":2},\"yaxis\":{\"backgroundcolor\":\"#E5ECF6\",\"gridcolor\":\"white\",\"linecolor\":\"white\",\"showbackground\":true,\"ticks\":\"\",\"zerolinecolor\":\"white\",\"gridwidth\":2},\"zaxis\":{\"backgroundcolor\":\"#E5ECF6\",\"gridcolor\":\"white\",\"linecolor\":\"white\",\"showbackground\":true,\"ticks\":\"\",\"zerolinecolor\":\"white\",\"gridwidth\":2}},\"shapedefaults\":{\"line\":{\"color\":\"#2a3f5f\"}},\"annotationdefaults\":{\"arrowcolor\":\"#2a3f5f\",\"arrowhead\":0,\"arrowwidth\":1},\"geo\":{\"bgcolor\":\"white\",\"landcolor\":\"#E5ECF6\",\"subunitcolor\":\"white\",\"showland\":true,\"showlakes\":true,\"lakecolor\":\"white\"},\"title\":{\"x\":0.05},\"mapbox\":{\"style\":\"light\"}}},\"xaxis\":{\"anchor\":\"y\",\"domain\":[0.0,1.0],\"title\":{\"text\":\"Fruits\"},\"categoryorder\":\"array\",\"categoryarray\":[\"Apples\",\"Bananas\",\"Cherries\",\"Dates\",\"Elderberries\"]},\"yaxis\":{\"anchor\":\"x\",\"domain\":[0.0,1.0],\"title\":{\"text\":\"Quantity\"}},\"legend\":{\"title\":{\"text\":\"Fruits\"},\"tracegroupgap\":0},\"title\":{\"text\":\"Fruit Quantity Bar Plot\"},\"barmode\":\"relative\"},                        {\"responsive\": true}                    ).then(function(){\n",
              "                            \n",
              "var gd = document.getElementById('4ef471f2-3111-44dd-b14e-5b8095bd97db');\n",
              "var x = new MutationObserver(function (mutations, observer) {{\n",
              "        var display = window.getComputedStyle(gd).display;\n",
              "        if (!display || display === 'none') {{\n",
              "            console.log([gd, 'removed!']);\n",
              "            Plotly.purge(gd);\n",
              "            observer.disconnect();\n",
              "        }}\n",
              "}});\n",
              "\n",
              "// Listen for the removal of the full notebook cells\n",
              "var notebookContainer = gd.closest('#notebook-container');\n",
              "if (notebookContainer) {{\n",
              "    x.observe(notebookContainer, {childList: true});\n",
              "}}\n",
              "\n",
              "// Listen for the clearing of the current output cell\n",
              "var outputEl = gd.closest('.output');\n",
              "if (outputEl) {{\n",
              "    x.observe(outputEl, {childList: true});\n",
              "}}\n",
              "\n",
              "                        })                };                            </script>        </div>\n",
              "</body>\n",
              "</html>"
            ]
          },
          "metadata": {}
        }
      ]
    },
    {
      "cell_type": "markdown",
      "source": [
        "6. Create a DataFrame and add a new column based on an existing column.\n",
        "- Let’s walk through how to create a Pandas DataFrame and then add a new column based on an existing one.\n"
      ],
      "metadata": {
        "id": "wlrgwCB3PsI3"
      }
    },
    {
      "cell_type": "code",
      "source": [
        "import pandas as pd\n",
        "\n",
        "# Create a sample DataFrame\n",
        "data = {\n",
        "    \"Name\": [\"Alice\", \"Bob\", \"Charlie\", \"David\"],\n",
        "    \"Salary\": [50000, 60000, 75000, 80000]\n",
        "}\n",
        "\n",
        "df = pd.DataFrame(data)\n",
        "print(\"Original DataFrame:\\n\", df)\n",
        "\n",
        "# Add a new column: Bonus = 10% of Salary\n",
        "df[\"Bonus\"] = df[\"Salary\"] * 0.10\n",
        "\n",
        "print(\"\\nDataFrame with New Column:\\n\", df)\n"
      ],
      "metadata": {
        "colab": {
          "base_uri": "https://localhost:8080/"
        },
        "id": "tclSo1JtQOH4",
        "outputId": "43de891e-0122-46e4-fad2-a2f35db020c6"
      },
      "execution_count": 6,
      "outputs": [
        {
          "output_type": "stream",
          "name": "stdout",
          "text": [
            "Original DataFrame:\n",
            "       Name  Salary\n",
            "0    Alice   50000\n",
            "1      Bob   60000\n",
            "2  Charlie   75000\n",
            "3    David   80000\n",
            "\n",
            "DataFrame with New Column:\n",
            "       Name  Salary   Bonus\n",
            "0    Alice   50000  5000.0\n",
            "1      Bob   60000  6000.0\n",
            "2  Charlie   75000  7500.0\n",
            "3    David   80000  8000.0\n"
          ]
        }
      ]
    },
    {
      "cell_type": "markdown",
      "source": [
        "7.Write a program to perform element-wise multiplication of two NumPy arrays.\n",
        "- Element-wise multiplication in NumPy is straightforward because arrays support vectorized operations.\n",
        "\n",
        " -"
      ],
      "metadata": {
        "id": "iVvWg5WiQSuN"
      }
    },
    {
      "cell_type": "code",
      "source": [
        "import numpy as np\n",
        "\n",
        "# Create two NumPy arrays\n",
        "arr1 = np.array([1, 2, 3, 4, 5])\n",
        "arr2 = np.array([10, 20, 30, 40, 50])\n",
        "\n",
        "# Perform element-wise multiplication\n",
        "result = arr1 * arr2\n",
        "\n",
        "# Display results\n",
        "print(\"Array 1:\", arr1)\n",
        "print(\"Array 2:\", arr2)\n",
        "print(\"Element-wise Multiplication:\", result)\n"
      ],
      "metadata": {
        "colab": {
          "base_uri": "https://localhost:8080/"
        },
        "id": "Ocjx-ay5Q_6O",
        "outputId": "dea24dea-cb23-4c95-d306-8762a2e0e122"
      },
      "execution_count": 7,
      "outputs": [
        {
          "output_type": "stream",
          "name": "stdout",
          "text": [
            "Array 1: [1 2 3 4 5]\n",
            "Array 2: [10 20 30 40 50]\n",
            "Element-wise Multiplication: [ 10  40  90 160 250]\n"
          ]
        }
      ]
    },
    {
      "cell_type": "markdown",
      "source": [
        "8. Create a line plot with multiple lines using Matplotlib.\n",
        "- Let’s create a line plot with multiple lines using Matplotlib"
      ],
      "metadata": {
        "id": "LO5qEXAYRG-1"
      }
    },
    {
      "cell_type": "code",
      "source": [
        "import matplotlib.pyplot as plt\n",
        "\n",
        "# Sample data\n",
        "x = [1, 2, 3, 4, 5]\n",
        "\n",
        "y1 = [2, 4, 6, 8, 10]   # Line 1\n",
        "y2 = [1, 2, 1, 2, 1]    # Line 2\n",
        "y3 = [5, 7, 6, 8, 7]    # Line 3\n",
        "\n",
        "# Plot multiple lines\n",
        "plt.plot(x, y1, label=\"Line 1\", marker=\"o\", linestyle=\"-\")\n",
        "plt.plot(x, y2, label=\"Line 2\", marker=\"s\", linestyle=\"--\")\n",
        "plt.plot(x, y3, label=\"Line 3\", marker=\"^\", linestyle=\":\")\n",
        "\n",
        "# Add labels and title\n",
        "plt.xlabel(\"X-axis\")\n",
        "plt.ylabel(\"Y-axis\")\n",
        "plt.title(\"Line Plot with Multiple Lines\")\n",
        "plt.legend()\n",
        "plt.grid(True)\n",
        "\n",
        "# Show plot\n",
        "plt.show()\n"
      ],
      "metadata": {
        "colab": {
          "base_uri": "https://localhost:8080/",
          "height": 472
        },
        "id": "dFKUqcolRcBQ",
        "outputId": "8067d31d-0685-4a96-f429-d9df1f5a9cb5"
      },
      "execution_count": 8,
      "outputs": [
        {
          "output_type": "display_data",
          "data": {
            "text/plain": [
              "<Figure size 640x480 with 1 Axes>"
            ],
            "image/png": "[encoded data removed]"
          },
          "metadata": {}
        }
      ]
    },
    {
      "cell_type": "markdown",
      "source": [
        "9.  Generate a Pandas DataFrame and filter rows where a column value is greater than a threshold.\n",
        "- Let’s generate a Pandas DataFrame and then filter rows where a column’s value is greater than a given threshold."
      ],
      "metadata": {
        "id": "b7hM1SomRiAV"
      }
    },
    {
      "cell_type": "code",
      "source": [
        "import pandas as pd\n",
        "\n",
        "# Create a sample DataFrame\n",
        "data = {\n",
        "    \"Name\": [\"Alice\", \"Bob\", \"Charlie\", \"David\", \"Eve\"],\n",
        "    \"Age\": [25, 32, 29, 40, 22],\n",
        "    \"Salary\": [50000, 60000, 55000, 80000, 45000]\n",
        "}\n",
        "\n",
        "df = pd.DataFrame(data)\n",
        "print(\"Original DataFrame:\\n\", df)\n",
        "\n",
        "# Define threshold\n",
        "threshold = 30\n",
        "\n",
        "# Filter rows where Age > threshold\n",
        "filtered_df = df[df[\"Age\"] > threshold]\n",
        "\n",
        "print(\"\\nFiltered DataFrame (Age > 30):\\n\", filtered_df)\n",
        "\n"
      ],
      "metadata": {
        "colab": {
          "base_uri": "https://localhost:8080/"
        },
        "id": "VnaO9aeLR0OE",
        "outputId": "f073f907-881e-4954-f04e-10e96d58fcaa"
      },
      "execution_count": 9,
      "outputs": [
        {
          "output_type": "stream",
          "name": "stdout",
          "text": [
            "Original DataFrame:\n",
            "       Name  Age  Salary\n",
            "0    Alice   25   50000\n",
            "1      Bob   32   60000\n",
            "2  Charlie   29   55000\n",
            "3    David   40   80000\n",
            "4      Eve   22   45000\n",
            "\n",
            "Filtered DataFrame (Age > 30):\n",
            "     Name  Age  Salary\n",
            "1    Bob   32   60000\n",
            "3  David   40   80000\n"
          ]
        }
      ]
    },
    {
      "cell_type": "markdown",
      "source": [
        "10. Create a histogram using Seaborn to visualize a distribution.\n",
        "- A histogram is one of the best ways to visualize the distribution of data.\n",
        "We’ll use Seaborn’s histplot() function."
      ],
      "metadata": {
        "id": "4A3C-i6HR4V8"
      }
    },
    {
      "cell_type": "code",
      "source": [
        "import seaborn as sns\n",
        "import matplotlib.pyplot as plt\n",
        "import numpy as np\n",
        "\n",
        "# Generate random data\n",
        "data = np.random.randn(1000)  # 1000 values from normal distribution\n",
        "\n",
        "# Create histogram\n",
        "sns.histplot(data, bins=30, kde=True, color=\"skyblue\")\n",
        "\n",
        "# Add labels and title\n",
        "plt.xlabel(\"Value\")\n",
        "plt.ylabel(\"Frequency\")\n",
        "plt.title(\"Histogram of Distribution\")\n",
        "\n",
        "# Show plot\n",
        "plt.show()\n"
      ],
      "metadata": {
        "colab": {
          "base_uri": "https://localhost:8080/",
          "height": 472
        },
        "id": "iVx87uYcSOQU",
        "outputId": "5c3a4a7f-c38a-46ae-bfd9-0cf280aac1db"
      },
      "execution_count": 10,
      "outputs": [
        {
          "output_type": "display_data",
          "data": {
            "text/plain": [
              "<Figure size 640x480 with 1 Axes>"
            ],
            "image/png": "[encoded data removed]"
          },
          "metadata": {}
        }
      ]
    },
    {
      "cell_type": "markdown",
      "source": [
        "11. Perform matrix multiplication using NumPy.\n",
        "- In NumPy, matrix multiplication can be done using either:\n",
        "\n",
        "   np.dot(A, B)\n",
        "\n",
        "   A @ B (Python 3.5+)\n",
        "\n",
        "  np.matmul(A, B)"
      ],
      "metadata": {
        "id": "lx5k0GnLSUDm"
      }
    },
    {
      "cell_type": "code",
      "source": [
        "import numpy as np\n",
        "\n",
        "# Define two matrices\n",
        "A = np.array([[1, 2, 3],\n",
        "              [4, 5, 6]])\n",
        "\n",
        "B = np.array([[7, 8],\n",
        "              [9, 10],\n",
        "              [11, 12]])\n",
        "\n",
        "# Perform matrix multiplication\n",
        "result1 = np.dot(A, B)   # Method 1\n",
        "result2 = A @ B          # Method 2\n",
        "result3 = np.matmul(A, B) # Method 3\n",
        "\n",
        "# Display results\n",
        "print(\"Matrix A:\\n\", A)\n",
        "print(\"Matrix B:\\n\", B)\n",
        "print(\"\\nResult of Matrix Multiplication:\\n\", result1)\n"
      ],
      "metadata": {
        "colab": {
          "base_uri": "https://localhost:8080/"
        },
        "id": "stpQ4gH3TNMH",
        "outputId": "559d5c6a-9af5-41b0-e04c-eaa076a8d31e"
      },
      "execution_count": 11,
      "outputs": [
        {
          "output_type": "stream",
          "name": "stdout",
          "text": [
            "Matrix A:\n",
            " [[1 2 3]\n",
            " [4 5 6]]\n",
            "Matrix B:\n",
            " [[ 7  8]\n",
            " [ 9 10]\n",
            " [11 12]]\n",
            "\n",
            "Result of Matrix Multiplication:\n",
            " [[ 58  64]\n",
            " [139 154]]\n"
          ]
        }
      ]
    },
    {
      "cell_type": "markdown",
      "source": [
        "12.  Use Pandas to load a CSV file and display its first 5 rows.\n",
        "- Let’s use Pandas to load a CSV file and display the first 5 rows.\n",
        "\n",
        "\n"
      ],
      "metadata": {
        "id": "FrZGZhZ9TToC"
      }
    },
    {
      "cell_type": "code",
      "source": [
        "import pandas as pd\n",
        "\n",
        "# Load CSV file (replace 'data.csv' with your file path)\n",
        "df = pd.read_csv(\"data.csv\")\n",
        "\n",
        "# Display first 5 rows\n",
        "print(df.head())\n"
      ],
      "metadata": {
        "colab": {
          "base_uri": "https://localhost:8080/",
          "height": 370
        },
        "id": "FIwMXG0PT0Ta",
        "outputId": "4d6ccf59-b26a-4d92-b25b-fc9edaaca494"
      },
      "execution_count": 12,
      "outputs": [
        {
          "output_type": "error",
          "ename": "FileNotFoundError",
          "evalue": "[Errno 2] No such file or directory: 'data.csv'",
          "traceback": [
            "\u001b[0;31m---------------------------------------------------------------------------\u001b[0m",
            "\u001b[0;31mFileNotFoundError\u001b[0m                         Traceback (most recent call last)",
            "\u001b[0;32m/tmp/ipython-input-3576574138.py\u001b[0m in \u001b[0;36m<cell line: 0>\u001b[0;34m()\u001b[0m\n\u001b[1;32m      2\u001b[0m \u001b[0;34m\u001b[0m\u001b[0m\n\u001b[1;32m      3\u001b[0m \u001b[0;31m# Load CSV file (replace 'data.csv' with your file path)\u001b[0m\u001b[0;34m\u001b[0m\u001b[0;34m\u001b[0m\u001b[0m\n\u001b[0;32m----> 4\u001b[0;31m \u001b[0mdf\u001b[0m \u001b[0;34m=\u001b[0m \u001b[0mpd\u001b[0m\u001b[0;34m.\u001b[0m\u001b[0mread_csv\u001b[0m\u001b[0;34m(\u001b[0m\u001b[0;34m\"data.csv\"\u001b[0m\u001b[0;34m)\u001b[0m\u001b[0;34m\u001b[0m\u001b[0;34m\u001b[0m\u001b[0m\n\u001b[0m\u001b[1;32m      5\u001b[0m \u001b[0;34m\u001b[0m\u001b[0m\n\u001b[1;32m      6\u001b[0m \u001b[0;31m# Display first 5 rows\u001b[0m\u001b[0;34m\u001b[0m\u001b[0;34m\u001b[0m\u001b[0m\n",
            "\u001b[0;32m/usr/local/lib/python3.11/dist-packages/pandas/io/parsers/readers.py\u001b[0m in \u001b[0;36mread_csv\u001b[0;34m(filepath_or_buffer, sep, delimiter, header, names, index_col, usecols, dtype, engine, converters, true_values, false_values, skipinitialspace, skiprows, skipfooter, nrows, na_values, keep_default_na, na_filter, verbose, skip_blank_lines, parse_dates, infer_datetime_format, keep_date_col, date_parser, date_format, dayfirst, cache_dates, iterator, chunksize, compression, thousands, decimal, lineterminator, quotechar, quoting, doublequote, escapechar, comment, encoding, encoding_errors, dialect, on_bad_lines, delim_whitespace, low_memory, memory_map, float_precision, storage_options, dtype_backend)\u001b[0m\n\u001b[1;32m   1024\u001b[0m     \u001b[0mkwds\u001b[0m\u001b[0;34m.\u001b[0m\u001b[0mupdate\u001b[0m\u001b[0;34m(\u001b[0m\u001b[0mkwds_defaults\u001b[0m\u001b[0;34m)\u001b[0m\u001b[0;34m\u001b[0m\u001b[0;34m\u001b[0m\u001b[0m\n\u001b[1;32m   1025\u001b[0m \u001b[0;34m\u001b[0m\u001b[0m\n\u001b[0;32m-> 1026\u001b[0;31m     \u001b[0;32mreturn\u001b[0m \u001b[0m_read\u001b[0m\u001b[0;34m(\u001b[0m\u001b[0mfilepath_or_buffer\u001b[0m\u001b[0;34m,\u001b[0m \u001b[0mkwds\u001b[0m\u001b[0;34m)\u001b[0m\u001b[0;34m\u001b[0m\u001b[0;34m\u001b[0m\u001b[0m\n\u001b[0m\u001b[1;32m   1027\u001b[0m \u001b[0;34m\u001b[0m\u001b[0m\n\u001b[1;32m   1028\u001b[0m \u001b[0;34m\u001b[0m\u001b[0m\n",
            "\u001b[0;32m/usr/local/lib/python3.11/dist-packages/pandas/io/parsers/readers.py\u001b[0m in \u001b[0;36m_read\u001b[0;34m(filepath_or_buffer, kwds)\u001b[0m\n\u001b[1;32m    618\u001b[0m \u001b[0;34m\u001b[0m\u001b[0m\n\u001b[1;32m    619\u001b[0m     \u001b[0;31m# Create the parser.\u001b[0m\u001b[0;34m\u001b[0m\u001b[0;34m\u001b[0m\u001b[0m\n\u001b[0;32m--> 620\u001b[0;31m     \u001b[0mparser\u001b[0m \u001b[0;34m=\u001b[0m \u001b[0mTextFileReader\u001b[0m\u001b[0;34m(\u001b[0m\u001b[0mfilepath_or_buffer\u001b[0m\u001b[0;34m,\u001b[0m \u001b[0;34m**\u001b[0m\u001b[0mkwds\u001b[0m\u001b[0;34m)\u001b[0m\u001b[0;34m\u001b[0m\u001b[0;34m\u001b[0m\u001b[0m\n\u001b[0m\u001b[1;32m    621\u001b[0m \u001b[0;34m\u001b[0m\u001b[0m\n\u001b[1;32m    622\u001b[0m     \u001b[0;32mif\u001b[0m \u001b[0mchunksize\u001b[0m \u001b[0;32mor\u001b[0m \u001b[0miterator\u001b[0m\u001b[0;34m:\u001b[0m\u001b[0;34m\u001b[0m\u001b[0;34m\u001b[0m\u001b[0m\n",
            "\u001b[0;32m/usr/local/lib/python3.11/dist-packages/pandas/io/parsers/readers.py\u001b[0m in \u001b[0;36m__init__\u001b[0;34m(self, f, engine, **kwds)\u001b[0m\n\u001b[1;32m   1618\u001b[0m \u001b[0;34m\u001b[0m\u001b[0m\n\u001b[1;32m   1619\u001b[0m         \u001b[0mself\u001b[0m\u001b[0;34m.\u001b[0m\u001b[0mhandles\u001b[0m\u001b[0;34m:\u001b[0m \u001b[0mIOHandles\u001b[0m \u001b[0;34m|\u001b[0m \u001b[0;32mNone\u001b[0m \u001b[0;34m=\u001b[0m \u001b[0;32mNone\u001b[0m\u001b[0;34m\u001b[0m\u001b[0;34m\u001b[0m\u001b[0m\n\u001b[0;32m-> 1620\u001b[0;31m         \u001b[0mself\u001b[0m\u001b[0;34m.\u001b[0m\u001b[0m_engine\u001b[0m \u001b[0;34m=\u001b[0m \u001b[0mself\u001b[0m\u001b[0;34m.\u001b[0m\u001b[0m_make_engine\u001b[0m\u001b[0;34m(\u001b[0m\u001b[0mf\u001b[0m\u001b[0;34m,\u001b[0m \u001b[0mself\u001b[0m\u001b[0;34m.\u001b[0m\u001b[0mengine\u001b[0m\u001b[0;34m)\u001b[0m\u001b[0;34m\u001b[0m\u001b[0;34m\u001b[0m\u001b[0m\n\u001b[0m\u001b[1;32m   1621\u001b[0m \u001b[0;34m\u001b[0m\u001b[0m\n\u001b[1;32m   1622\u001b[0m     \u001b[0;32mdef\u001b[0m \u001b[0mclose\u001b[0m\u001b[0;34m(\u001b[0m\u001b[0mself\u001b[0m\u001b[0;34m)\u001b[0m \u001b[0;34m->\u001b[0m \u001b[0;32mNone\u001b[0m\u001b[0;34m:\u001b[0m\u001b[0;34m\u001b[0m\u001b[0;34m\u001b[0m\u001b[0m\n",
            "\u001b[0;32m/usr/local/lib/python3.11/dist-packages/pandas/io/parsers/readers.py\u001b[0m in \u001b[0;36m_make_engine\u001b[0;34m(self, f, engine)\u001b[0m\n\u001b[1;32m   1878\u001b[0m                 \u001b[0;32mif\u001b[0m \u001b[0;34m\"b\"\u001b[0m \u001b[0;32mnot\u001b[0m \u001b[0;32min\u001b[0m \u001b[0mmode\u001b[0m\u001b[0;34m:\u001b[0m\u001b[0;34m\u001b[0m\u001b[0;34m\u001b[0m\u001b[0m\n\u001b[1;32m   1879\u001b[0m                     \u001b[0mmode\u001b[0m \u001b[0;34m+=\u001b[0m \u001b[0;34m\"b\"\u001b[0m\u001b[0;34m\u001b[0m\u001b[0;34m\u001b[0m\u001b[0m\n\u001b[0;32m-> 1880\u001b[0;31m             self.handles = get_handle(\n\u001b[0m\u001b[1;32m   1881\u001b[0m                 \u001b[0mf\u001b[0m\u001b[0;34m,\u001b[0m\u001b[0;34m\u001b[0m\u001b[0;34m\u001b[0m\u001b[0m\n\u001b[1;32m   1882\u001b[0m                 \u001b[0mmode\u001b[0m\u001b[0;34m,\u001b[0m\u001b[0;34m\u001b[0m\u001b[0;34m\u001b[0m\u001b[0m\n",
            "\u001b[0;32m/usr/local/lib/python3.11/dist-packages/pandas/io/common.py\u001b[0m in \u001b[0;36mget_handle\u001b[0;34m(path_or_buf, mode, encoding, compression, memory_map, is_text, errors, storage_options)\u001b[0m\n\u001b[1;32m    871\u001b[0m         \u001b[0;32mif\u001b[0m \u001b[0mioargs\u001b[0m\u001b[0;34m.\u001b[0m\u001b[0mencoding\u001b[0m \u001b[0;32mand\u001b[0m \u001b[0;34m\"b\"\u001b[0m \u001b[0;32mnot\u001b[0m \u001b[0;32min\u001b[0m \u001b[0mioargs\u001b[0m\u001b[0;34m.\u001b[0m\u001b[0mmode\u001b[0m\u001b[0;34m:\u001b[0m\u001b[0;34m\u001b[0m\u001b[0;34m\u001b[0m\u001b[0m\n\u001b[1;32m    872\u001b[0m             \u001b[0;31m# Encoding\u001b[0m\u001b[0;34m\u001b[0m\u001b[0;34m\u001b[0m\u001b[0m\n\u001b[0;32m--> 873\u001b[0;31m             handle = open(\n\u001b[0m\u001b[1;32m    874\u001b[0m                 \u001b[0mhandle\u001b[0m\u001b[0;34m,\u001b[0m\u001b[0;34m\u001b[0m\u001b[0;34m\u001b[0m\u001b[0m\n\u001b[1;32m    875\u001b[0m                 \u001b[0mioargs\u001b[0m\u001b[0;34m.\u001b[0m\u001b[0mmode\u001b[0m\u001b[0;34m,\u001b[0m\u001b[0;34m\u001b[0m\u001b[0;34m\u001b[0m\u001b[0m\n",
            "\u001b[0;31mFileNotFoundError\u001b[0m: [Errno 2] No such file or directory: 'data.csv'"
          ]
        }
      ]
    },
    {
      "cell_type": "markdown",
      "source": [
        "13. Create a 3D scatter plot using Plotly.\n",
        "- Plotly makes it really easy to create interactive 3D scatter plots 🚀\n",
        "\n",
        "Here’s how you can do it:"
      ],
      "metadata": {
        "id": "o8nksR2oUGCE"
      }
    },
    {
      "cell_type": "code",
      "source": [
        "import plotly.express as px\n",
        "import pandas as pd\n",
        "import numpy as np\n",
        "\n",
        "# Generate some random data\n",
        "np.random.seed(42)\n",
        "df = pd.DataFrame({\n",
        "    \"x\": np.random.randn(50),\n",
        "    \"y\": np.random.randn(50),\n",
        "    \"z\": np.random.randn(50),\n",
        "    \"category\": np.random.choice([\"A\", \"B\", \"C\"], 50)  # categorical labels\n",
        "})\n",
        "\n",
        "# Create 3D scatter plot\n",
        "fig = px.scatter_3d(\n",
        "    df,\n",
        "    x=\"x\", y=\"y\", z=\"z\",\n",
        "    color=\"category\",   # Color by category\n",
        "    symbol=\"category\",  # Different markers for categories\n",
        "    size_max=10,\n",
        "    title=\"3D Scatter Plot with Plotly\"\n",
        ")\n",
        "\n",
        "# Show plot\n",
        "fig.show()\n"
      ],
      "metadata": {
        "colab": {
          "base_uri": "https://localhost:8080/",
          "height": 542
        },
        "id": "O_UedcXYUlTw",
        "outputId": "ee5ae10d-2caa-404d-b53f-04b21c1530fe"
      },
      "execution_count": 13,
      "outputs": [
        {
          "output_type": "display_data",
          "data": {
            "text/html": [
              "<html>\n",
              "<head><meta charset=\"utf-8\" /></head>\n",
              "<body>\n",
              "    <div>            <script src=\"https://cdnjs.cloudflare.com/ajax/libs/mathjax/2.7.5/MathJax.js?config=TeX-AMS-MML_SVG\"></script><script type=\"text/javascript\">if (window.MathJax && window.MathJax.Hub && window.MathJax.Hub.Config) {window.MathJax.Hub.Config({SVG: {font: \"STIX-Web\"}});}</script>                <script type=\"text/javascript\">window.PlotlyConfig = {MathJaxConfig: 'local'};</script>\n",
              "        <script charset=\"utf-8\" src=\"https://cdn.plot.ly/plotly-2.35.2.min.js\"></script>                <div id=\"b9e5095f-d581-4ac7-9b65-ce0f93e5ff57\" class=\"plotly-graph-div\" style=\"height:525px; width:100%;\"></div>            <script type=\"text/javascript\">                                    window.PLOTLYENV=window.PLOTLYENV || {};                                    if (document.getElementById(\"b9e5095f-d581-4ac7-9b65-ce0f93e5ff57\")) {                    Plotly.newPlot(                        \"b9e5095f-d581-4ac7-9b65-ce0f93e5ff57\",                        [{\"hovertemplate\":\"category=B\\u003cbr\\u003ex=%{x}\\u003cbr\\u003ey=%{y}\\u003cbr\\u003ez=%{z}\\u003cextra\\u003e\\u003c\\u002fextra\\u003e\",\"legendgroup\":\"B\",\"marker\":{\"color\":\"#636efa\",\"symbol\":\"circle\"},\"mode\":\"markers\",\"name\":\"B\",\"scene\":\"scene\",\"showlegend\":true,\"x\":[0.4967141530112327,-0.23415337472333597,-0.23413695694918055,0.7674347291529088,0.24196227156603412,-1.913280244657798,-1.7249178325130328,-0.5622875292409727,-1.0128311203344238,0.06752820468792384,-0.6017066122293969,-0.013497224737933921,-1.0577109289559004,0.822544912103189,-1.2208436499710222,0.2088635950047554,0.19686123586912352,-0.11564828238824053,-1.4785219903674274],\"y\":[0.324083969394795,1.030999522495951,0.9312801191161986,-0.3092123758512146,-1.1063349740060282,-1.1962066240806708,0.812525822394198,1.356240028570823,-0.07201012158033385,-0.03582603910995154,-0.21967188783751193,1.477894044741516,-0.5182702182736474,-0.8084936028931876,-0.5017570435845365,0.9154021177020741,0.5132674331133561,-0.7020530938773524,-0.39210815313215763],\"z\":[-1.4153707420504142,-0.16128571166600914,0.4040508568145384,0.17457781283183896,0.06023020994102644,2.463242112485286,-0.19236096478112252,0.30154734233361247,-0.03471176970524331,1.4027943109360992,-1.5506634310661327,-1.0623037137261049,0.4735924306351816,-0.9194242342338032,1.5499344050175394,-0.7832532923362371,-1.2308643164339552,-1.6074832345612275,0.25988279424842353],\"type\":\"scatter3d\"},{\"hovertemplate\":\"category=A\\u003cbr\\u003ex=%{x}\\u003cbr\\u003ey=%{y}\\u003cbr\\u003ez=%{z}\\u003cextra\\u003e\\u003c\\u002fextra\\u003e\",\"legendgroup\":\"A\",\"marker\":{\"color\":\"#EF553B\",\"symbol\":\"diamond\"},\"mode\":\"markers\",\"name\":\"A\",\"scene\":\"scene\",\"showlegend\":true,\"x\":[-0.13826430117118466,1.5230298564080254,-0.4694743859349521,-0.46341769281246226,-0.46572975357025687,-0.9080240755212109,-1.4123037013352915,1.465648768921554,-0.22577630048653566,-1.4247481862134568,-1.1509935774223028,0.37569801834567196,-1.9596701238797756,-0.3011036955892888,-0.7198442083947086,1.0571222262189157,0.3436182895684614,-1.763040155362734],\"y\":[-0.38508228041631654,0.6116762888408679,0.33126343140356396,-0.47917423784528995,-0.18565897666381712,0.36163602504763415,-0.6451197546051243,0.36139560550841393,1.5380365664659692,1.5646436558140062,0.08704706823817122,-0.29900735046586746,0.32875110965968446,-0.3276621465977682,-1.4635149481321186,0.26105527217988933,0.00511345664246089,-0.23458713337514692],\"z\":[-0.42064532276535904,-0.8022772692216189,0.25755039072276437,-1.9187712152990415,-0.026513875449216878,1.1428228145150205,0.7519330326867741,0.7910319470430469,-0.9093874547947389,-1.4018510627922809,-0.9905363251306883,-0.5662977296027719,-0.3220615162056756,0.1846338585323042,0.7818228717773104,-1.3204566130842763,0.5219415656168976,0.29698467323318606],\"type\":\"scatter3d\"},{\"hovertemplate\":\"category=C\\u003cbr\\u003ex=%{x}\\u003cbr\\u003ey=%{y}\\u003cbr\\u003ez=%{z}\\u003cextra\\u003e\\u003c\\u002fextra\\u003e\",\"legendgroup\":\"C\",\"marker\":{\"color\":\"#00cc96\",\"symbol\":\"square\"},\"mode\":\"markers\",\"name\":\"C\",\"scene\":\"scene\",\"showlegend\":true,\"x\":[0.6476885381006925,1.5792128155073915,0.5425600435859647,0.3142473325952739,-0.5443827245251827,0.11092258970986608,-0.600638689918805,-0.2916937497932768,1.8522781845089378,-1.3281860488984305,0.7384665799954104,0.1713682811899705,-0.4606387709597875],\"y\":[-0.6769220003059587,-0.8392175232226385,0.9755451271223592,1.0035328978920242,-2.6197451040897444,0.8219025043752238,0.0917607765355023,-1.9875689146008928,0.3571125715117464,-0.5297602037670388,0.09707754934804039,0.9686449905328892,0.29612027706457605],\"z\":[-0.3427145165267695,1.8861859012105302,-0.07444591576616721,-1.168678037619532,0.5868570938002703,2.1904556258099785,0.09965136508764122,-0.5034756541161992,0.06856297480602733,0.8135172173696698,0.22745993460412942,1.307142754282428,-1.236950710878082],\"type\":\"scatter3d\"}],                        {\"template\":{\"data\":{\"histogram2dcontour\":[{\"type\":\"histogram2dcontour\",\"colorbar\":{\"outlinewidth\":0,\"ticks\":\"\"},\"colorscale\":[[0.0,\"#0d0887\"],[0.1111111111111111,\"#46039f\"],[0.2222222222222222,\"#7201a8\"],[0.3333333333333333,\"#9c179e\"],[0.4444444444444444,\"#bd3786\"],[0.5555555555555556,\"#d8576b\"],[0.6666666666666666,\"#ed7953\"],[0.7777777777777778,\"#fb9f3a\"],[0.8888888888888888,\"#fdca26\"],[1.0,\"#f0f921\"]]}],\"choropleth\":[{\"type\":\"choropleth\",\"colorbar\":{\"outlinewidth\":0,\"ticks\":\"\"}}],\"histogram2d\":[{\"type\":\"histogram2d\",\"colorbar\":{\"outlinewidth\":0,\"ticks\":\"\"},\"colorscale\":[[0.0,\"#0d0887\"],[0.1111111111111111,\"#46039f\"],[0.2222222222222222,\"#7201a8\"],[0.3333333333333333,\"#9c179e\"],[0.4444444444444444,\"#bd3786\"],[0.5555555555555556,\"#d8576b\"],[0.6666666666666666,\"#ed7953\"],[0.7777777777777778,\"#fb9f3a\"],[0.8888888888888888,\"#fdca26\"],[1.0,\"#f0f921\"]]}],\"heatmap\":[{\"type\":\"heatmap\",\"colorbar\":{\"outlinewidth\":0,\"ticks\":\"\"},\"colorscale\":[[0.0,\"#0d0887\"],[0.1111111111111111,\"#46039f\"],[0.2222222222222222,\"#7201a8\"],[0.3333333333333333,\"#9c179e\"],[0.4444444444444444,\"#bd3786\"],[0.5555555555555556,\"#d8576b\"],[0.6666666666666666,\"#ed7953\"],[0.7777777777777778,\"#fb9f3a\"],[0.8888888888888888,\"#fdca26\"],[1.0,\"#f0f921\"]]}],\"heatmapgl\":[{\"type\":\"heatmapgl\",\"colorbar\":{\"outlinewidth\":0,\"ticks\":\"\"},\"colorscale\":[[0.0,\"#0d0887\"],[0.1111111111111111,\"#46039f\"],[0.2222222222222222,\"#7201a8\"],[0.3333333333333333,\"#9c179e\"],[0.4444444444444444,\"#bd3786\"],[0.5555555555555556,\"#d8576b\"],[0.6666666666666666,\"#ed7953\"],[0.7777777777777778,\"#fb9f3a\"],[0.8888888888888888,\"#fdca26\"],[1.0,\"#f0f921\"]]}],\"contourcarpet\":[{\"type\":\"contourcarpet\",\"colorbar\":{\"outlinewidth\":0,\"ticks\":\"\"}}],\"contour\":[{\"type\":\"contour\",\"colorbar\":{\"outlinewidth\":0,\"ticks\":\"\"},\"colorscale\":[[0.0,\"#0d0887\"],[0.1111111111111111,\"#46039f\"],[0.2222222222222222,\"#7201a8\"],[0.3333333333333333,\"#9c179e\"],[0.4444444444444444,\"#bd3786\"],[0.5555555555555556,\"#d8576b\"],[0.6666666666666666,\"#ed7953\"],[0.7777777777777778,\"#fb9f3a\"],[0.8888888888888888,\"#fdca26\"],[1.0,\"#f0f921\"]]}],\"surface\":[{\"type\":\"surface\",\"colorbar\":{\"outlinewidth\":0,\"ticks\":\"\"},\"colorscale\":[[0.0,\"#0d0887\"],[0.1111111111111111,\"#46039f\"],[0.2222222222222222,\"#7201a8\"],[0.3333333333333333,\"#9c179e\"],[0.4444444444444444,\"#bd3786\"],[0.5555555555555556,\"#d8576b\"],[0.6666666666666666,\"#ed7953\"],[0.7777777777777778,\"#fb9f3a\"],[0.8888888888888888,\"#fdca26\"],[1.0,\"#f0f921\"]]}],\"mesh3d\":[{\"type\":\"mesh3d\",\"colorbar\":{\"outlinewidth\":0,\"ticks\":\"\"}}],\"scatter\":[{\"fillpattern\":{\"fillmode\":\"overlay\",\"size\":10,\"solidity\":0.2},\"type\":\"scatter\"}],\"parcoords\":[{\"type\":\"parcoords\",\"line\":{\"colorbar\":{\"outlinewidth\":0,\"ticks\":\"\"}}}],\"scatterpolargl\":[{\"type\":\"scatterpolargl\",\"marker\":{\"colorbar\":{\"outlinewidth\":0,\"ticks\":\"\"}}}],\"bar\":[{\"error_x\":{\"color\":\"#2a3f5f\"},\"error_y\":{\"color\":\"#2a3f5f\"},\"marker\":{\"line\":{\"color\":\"#E5ECF6\",\"width\":0.5},\"pattern\":{\"fillmode\":\"overlay\",\"size\":10,\"solidity\":0.2}},\"type\":\"bar\"}],\"scattergeo\":[{\"type\":\"scattergeo\",\"marker\":{\"colorbar\":{\"outlinewidth\":0,\"ticks\":\"\"}}}],\"scatterpolar\":[{\"type\":\"scatterpolar\",\"marker\":{\"colorbar\":{\"outlinewidth\":0,\"ticks\":\"\"}}}],\"histogram\":[{\"marker\":{\"pattern\":{\"fillmode\":\"overlay\",\"size\":10,\"solidity\":0.2}},\"type\":\"histogram\"}],\"scattergl\":[{\"type\":\"scattergl\",\"marker\":{\"colorbar\":{\"outlinewidth\":0,\"ticks\":\"\"}}}],\"scatter3d\":[{\"type\":\"scatter3d\",\"line\":{\"colorbar\":{\"outlinewidth\":0,\"ticks\":\"\"}},\"marker\":{\"colorbar\":{\"outlinewidth\":0,\"ticks\":\"\"}}}],\"scattermapbox\":[{\"type\":\"scattermapbox\",\"marker\":{\"colorbar\":{\"outlinewidth\":0,\"ticks\":\"\"}}}],\"scatterternary\":[{\"type\":\"scatterternary\",\"marker\":{\"colorbar\":{\"outlinewidth\":0,\"ticks\":\"\"}}}],\"scattercarpet\":[{\"type\":\"scattercarpet\",\"marker\":{\"colorbar\":{\"outlinewidth\":0,\"ticks\":\"\"}}}],\"carpet\":[{\"aaxis\":{\"endlinecolor\":\"#2a3f5f\",\"gridcolor\":\"white\",\"linecolor\":\"white\",\"minorgridcolor\":\"white\",\"startlinecolor\":\"#2a3f5f\"},\"baxis\":{\"endlinecolor\":\"#2a3f5f\",\"gridcolor\":\"white\",\"linecolor\":\"white\",\"minorgridcolor\":\"white\",\"startlinecolor\":\"#2a3f5f\"},\"type\":\"carpet\"}],\"table\":[{\"cells\":{\"fill\":{\"color\":\"#EBF0F8\"},\"line\":{\"color\":\"white\"}},\"header\":{\"fill\":{\"color\":\"#C8D4E3\"},\"line\":{\"color\":\"white\"}},\"type\":\"table\"}],\"barpolar\":[{\"marker\":{\"line\":{\"color\":\"#E5ECF6\",\"width\":0.5},\"pattern\":{\"fillmode\":\"overlay\",\"size\":10,\"solidity\":0.2}},\"type\":\"barpolar\"}],\"pie\":[{\"automargin\":true,\"type\":\"pie\"}]},\"layout\":{\"autotypenumbers\":\"strict\",\"colorway\":[\"#636efa\",\"#EF553B\",\"#00cc96\",\"#ab63fa\",\"#FFA15A\",\"#19d3f3\",\"#FF6692\",\"#B6E880\",\"#FF97FF\",\"#FECB52\"],\"font\":{\"color\":\"#2a3f5f\"},\"hovermode\":\"closest\",\"hoverlabel\":{\"align\":\"left\"},\"paper_bgcolor\":\"white\",\"plot_bgcolor\":\"#E5ECF6\",\"polar\":{\"bgcolor\":\"#E5ECF6\",\"angularaxis\":{\"gridcolor\":\"white\",\"linecolor\":\"white\",\"ticks\":\"\"},\"radialaxis\":{\"gridcolor\":\"white\",\"linecolor\":\"white\",\"ticks\":\"\"}},\"ternary\":{\"bgcolor\":\"#E5ECF6\",\"aaxis\":{\"gridcolor\":\"white\",\"linecolor\":\"white\",\"ticks\":\"\"},\"baxis\":{\"gridcolor\":\"white\",\"linecolor\":\"white\",\"ticks\":\"\"},\"caxis\":{\"gridcolor\":\"white\",\"linecolor\":\"white\",\"ticks\":\"\"}},\"coloraxis\":{\"colorbar\":{\"outlinewidth\":0,\"ticks\":\"\"}},\"colorscale\":{\"sequential\":[[0.0,\"#0d0887\"],[0.1111111111111111,\"#46039f\"],[0.2222222222222222,\"#7201a8\"],[0.3333333333333333,\"#9c179e\"],[0.4444444444444444,\"#bd3786\"],[0.5555555555555556,\"#d8576b\"],[0.6666666666666666,\"#ed7953\"],[0.7777777777777778,\"#fb9f3a\"],[0.8888888888888888,\"#fdca26\"],[1.0,\"#f0f921\"]],\"sequentialminus\":[[0.0,\"#0d0887\"],[0.1111111111111111,\"#46039f\"],[0.2222222222222222,\"#7201a8\"],[0.3333333333333333,\"#9c179e\"],[0.4444444444444444,\"#bd3786\"],[0.5555555555555556,\"#d8576b\"],[0.6666666666666666,\"#ed7953\"],[0.7777777777777778,\"#fb9f3a\"],[0.8888888888888888,\"#fdca26\"],[1.0,\"#f0f921\"]],\"diverging\":[[0,\"#8e0152\"],[0.1,\"#c51b7d\"],[0.2,\"#de77ae\"],[0.3,\"#f1b6da\"],[0.4,\"#fde0ef\"],[0.5,\"#f7f7f7\"],[0.6,\"#e6f5d0\"],[0.7,\"#b8e186\"],[0.8,\"#7fbc41\"],[0.9,\"#4d9221\"],[1,\"#276419\"]]},\"xaxis\":{\"gridcolor\":\"white\",\"linecolor\":\"white\",\"ticks\":\"\",\"title\":{\"standoff\":15},\"zerolinecolor\":\"white\",\"automargin\":true,\"zerolinewidth\":2},\"yaxis\":{\"gridcolor\":\"white\",\"linecolor\":\"white\",\"ticks\":\"\",\"title\":{\"standoff\":15},\"zerolinecolor\":\"white\",\"automargin\":true,\"zerolinewidth\":2},\"scene\":{\"xaxis\":{\"backgroundcolor\":\"#E5ECF6\",\"gridcolor\":\"white\",\"linecolor\":\"white\",\"showbackground\":true,\"ticks\":\"\",\"zerolinecolor\":\"white\",\"gridwidth\":2},\"yaxis\":{\"backgroundcolor\":\"#E5ECF6\",\"gridcolor\":\"white\",\"linecolor\":\"white\",\"showbackground\":true,\"ticks\":\"\",\"zerolinecolor\":\"white\",\"gridwidth\":2},\"zaxis\":{\"backgroundcolor\":\"#E5ECF6\",\"gridcolor\":\"white\",\"linecolor\":\"white\",\"showbackground\":true,\"ticks\":\"\",\"zerolinecolor\":\"white\",\"gridwidth\":2}},\"shapedefaults\":{\"line\":{\"color\":\"#2a3f5f\"}},\"annotationdefaults\":{\"arrowcolor\":\"#2a3f5f\",\"arrowhead\":0,\"arrowwidth\":1},\"geo\":{\"bgcolor\":\"white\",\"landcolor\":\"#E5ECF6\",\"subunitcolor\":\"white\",\"showland\":true,\"showlakes\":true,\"lakecolor\":\"white\"},\"title\":{\"x\":0.05},\"mapbox\":{\"style\":\"light\"}}},\"scene\":{\"domain\":{\"x\":[0.0,1.0],\"y\":[0.0,1.0]},\"xaxis\":{\"title\":{\"text\":\"x\"}},\"yaxis\":{\"title\":{\"text\":\"y\"}},\"zaxis\":{\"title\":{\"text\":\"z\"}}},\"legend\":{\"title\":{\"text\":\"category\"},\"tracegroupgap\":0},\"title\":{\"text\":\"3D Scatter Plot with Plotly\"}},                        {\"responsive\": true}                    ).then(function(){\n",
              "                            \n",
              "var gd = document.getElementById('b9e5095f-d581-4ac7-9b65-ce0f93e5ff57');\n",
              "var x = new MutationObserver(function (mutations, observer) {{\n",
              "        var display = window.getComputedStyle(gd).display;\n",
              "        if (!display || display === 'none') {{\n",
              "            console.log([gd, 'removed!']);\n",
              "            Plotly.purge(gd);\n",
              "            observer.disconnect();\n",
              "        }}\n",
              "}});\n",
              "\n",
              "// Listen for the removal of the full notebook cells\n",
              "var notebookContainer = gd.closest('#notebook-container');\n",
              "if (notebookContainer) {{\n",
              "    x.observe(notebookContainer, {childList: true});\n",
              "}}\n",
              "\n",
              "// Listen for the clearing of the current output cell\n",
              "var outputEl = gd.closest('.output');\n",
              "if (outputEl) {{\n",
              "    x.observe(outputEl, {childList: true});\n",
              "}}\n",
              "\n",
              "                        })                };                            </script>        </div>\n",
              "</body>\n",
              "</html>"
            ]
          },
          "metadata": {}
        }
      ]
    }
  ]
}